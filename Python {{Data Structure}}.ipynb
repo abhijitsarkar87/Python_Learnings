{
 "cells": [
  {
   "cell_type": "markdown",
   "id": "dbe904e7",
   "metadata": {},
   "source": [
    "# Python Data Stucture"
   ]
  },
  {
   "cell_type": "markdown",
   "id": "0f356b79",
   "metadata": {},
   "source": [
    "# Data Structures\n",
    "1. List\n",
    "2. Dictionary\n",
    "3. Tuple\n",
    "4. Sets"
   ]
  },
  {
   "cell_type": "markdown",
   "id": "9aa2e7c7",
   "metadata": {},
   "source": [
    "## List"
   ]
  },
  {
   "cell_type": "code",
   "execution_count": 4,
   "id": "a3f10834",
   "metadata": {},
   "outputs": [
    {
     "name": "stdout",
     "output_type": "stream",
     "text": [
      "Empty list [] \n",
      "\n",
      "[1, 2, 3, 4, 5]\n",
      "Index 0= 1 \n",
      "Index 1= 2 \n",
      "Index 2= 3\n"
     ]
    }
   ],
   "source": [
    "# creating list\n",
    "list1=[]\n",
    "print(\"Empty list\",list1,\"\\n\")\n",
    "list1=[1,2,3,4,5]\n",
    "print(list1)\n",
    "print(\"Index 0=\",list1[0],\"\\nIndex 1=\",list1[1],\"\\nIndex 2=\",list1[2])"
   ]
  },
  {
   "cell_type": "code",
   "execution_count": 5,
   "id": "c4dfdef9",
   "metadata": {},
   "outputs": [
    {
     "name": "stdout",
     "output_type": "stream",
     "text": [
      "Length of List 5\n"
     ]
    }
   ],
   "source": [
    "#  Length of list\n",
    "print(\"Length of List\",len(list1))"
   ]
  },
  {
   "cell_type": "code",
   "execution_count": 11,
   "id": "2e5e6311",
   "metadata": {},
   "outputs": [
    {
     "name": "stdout",
     "output_type": "stream",
     "text": [
      "List2 Shows Empty List []\n",
      "Index for List2\n",
      " ********** \n",
      "Index 0= Laptop \n",
      "Index 3= Computer \n",
      "Index 5= Remote\n"
     ]
    }
   ],
   "source": [
    "# Practice:\n",
    "list2=[]\n",
    "print(\"List2 Shows Empty List\",list2)\n",
    "\n",
    "list2=['Laptop','Computer','Mobile','Tablet','Battery','Remote']\n",
    "print(\"Index for List2\\n\",\"*\"*10,\"\\nIndex 0=\",list2[0],\"\\nIndex 3=\",list2[1],\"\\nIndex 5=\",list2[5])"
   ]
  },
  {
   "cell_type": "code",
   "execution_count": 13,
   "id": "9f3600ef",
   "metadata": {},
   "outputs": [
    {
     "name": "stdout",
     "output_type": "stream",
     "text": [
      "Fruit List \n",
      " ['apple', 'mango', 'guava', 'papaya', 'Grapes', 'banana']\n"
     ]
    }
   ],
   "source": [
    "fruitlist=['apple','mango','guava','papaya','Grapes','banana']\n",
    "\n",
    "#  creating instance\n",
    "fs=fruitlist\n",
    "\n",
    "print(\"Fruit List\",\"\\n\",fs)"
   ]
  },
  {
   "cell_type": "markdown",
   "id": "6fb78c72",
   "metadata": {},
   "source": [
    "### Indexing"
   ]
  },
  {
   "cell_type": "code",
   "execution_count": 14,
   "id": "bf0061b5",
   "metadata": {},
   "outputs": [
    {
     "data": {
      "text/plain": [
       "'apple'"
      ]
     },
     "execution_count": 14,
     "metadata": {},
     "output_type": "execute_result"
    }
   ],
   "source": [
    "fruitlist[0]"
   ]
  },
  {
   "cell_type": "code",
   "execution_count": 15,
   "id": "1d9dbdd2",
   "metadata": {},
   "outputs": [
    {
     "data": {
      "text/plain": [
       "'mango'"
      ]
     },
     "execution_count": 15,
     "metadata": {},
     "output_type": "execute_result"
    }
   ],
   "source": [
    "fruitlist[1]"
   ]
  },
  {
   "cell_type": "code",
   "execution_count": 16,
   "id": "941ffcfa",
   "metadata": {},
   "outputs": [
    {
     "data": {
      "text/plain": [
       "'guava'"
      ]
     },
     "execution_count": 16,
     "metadata": {},
     "output_type": "execute_result"
    }
   ],
   "source": [
    "fruitlist[2]"
   ]
  },
  {
   "cell_type": "code",
   "execution_count": 17,
   "id": "d156ce42",
   "metadata": {},
   "outputs": [
    {
     "data": {
      "text/plain": [
       "'papaya'"
      ]
     },
     "execution_count": 17,
     "metadata": {},
     "output_type": "execute_result"
    }
   ],
   "source": [
    "fruitlist[3]"
   ]
  },
  {
   "cell_type": "code",
   "execution_count": 18,
   "id": "7747a296",
   "metadata": {},
   "outputs": [
    {
     "data": {
      "text/plain": [
       "['apple', 'mango']"
      ]
     },
     "execution_count": 18,
     "metadata": {},
     "output_type": "execute_result"
    }
   ],
   "source": [
    "# Slicing [start,end] *End will not be added to list*\n",
    "fruitlist[0:2]"
   ]
  },
  {
   "cell_type": "code",
   "execution_count": 19,
   "id": "79ceaba4",
   "metadata": {},
   "outputs": [
    {
     "data": {
      "text/plain": [
       "['guava', 'papaya', 'Grapes']"
      ]
     },
     "execution_count": 19,
     "metadata": {},
     "output_type": "execute_result"
    }
   ],
   "source": [
    "fruitlist[2:5]"
   ]
  },
  {
   "cell_type": "code",
   "execution_count": 20,
   "id": "8c4f5f12",
   "metadata": {},
   "outputs": [
    {
     "data": {
      "text/plain": [
       "['apple', 'mango', 'guava']"
      ]
     },
     "execution_count": 20,
     "metadata": {},
     "output_type": "execute_result"
    }
   ],
   "source": [
    "fruitlist[0:3]"
   ]
  },
  {
   "cell_type": "code",
   "execution_count": 23,
   "id": "3aaeffc7",
   "metadata": {},
   "outputs": [
    {
     "data": {
      "text/plain": [
       "['apple', 'guava', 'Grapes']"
      ]
     },
     "execution_count": 23,
     "metadata": {},
     "output_type": "execute_result"
    }
   ],
   "source": [
    "# slicing [start,end,jump]\n",
    "fruitlist[0::2]"
   ]
  },
  {
   "cell_type": "code",
   "execution_count": 24,
   "id": "97425210",
   "metadata": {},
   "outputs": [
    {
     "data": {
      "text/plain": [
       "['apple', 'mango', 'guava', 'papaya', 'Grapes', 'banana']"
      ]
     },
     "execution_count": 24,
     "metadata": {},
     "output_type": "execute_result"
    }
   ],
   "source": [
    "fruitlist[0:]"
   ]
  },
  {
   "cell_type": "code",
   "execution_count": 25,
   "id": "4e6c9a59",
   "metadata": {},
   "outputs": [
    {
     "data": {
      "text/plain": [
       "['apple', 'mango', 'guava', 'papaya', 'Grapes']"
      ]
     },
     "execution_count": 25,
     "metadata": {},
     "output_type": "execute_result"
    }
   ],
   "source": [
    "fruitlist[0:5]\n",
    "\n",
    "# Here 5th index got excluded"
   ]
  },
  {
   "cell_type": "code",
   "execution_count": 26,
   "id": "73cf2da9",
   "metadata": {},
   "outputs": [
    {
     "data": {
      "text/plain": [
       "['apple', 'mango', 'guava', 'papaya', 'Grapes', 'banana']"
      ]
     },
     "execution_count": 26,
     "metadata": {},
     "output_type": "execute_result"
    }
   ],
   "source": [
    "fruitlist[0:6]"
   ]
  },
  {
   "cell_type": "code",
   "execution_count": 28,
   "id": "bf8158c8",
   "metadata": {},
   "outputs": [
    {
     "data": {
      "text/plain": [
       "'banana'"
      ]
     },
     "execution_count": 28,
     "metadata": {},
     "output_type": "execute_result"
    }
   ],
   "source": [
    "fruitlist[5]"
   ]
  },
  {
   "cell_type": "code",
   "execution_count": 33,
   "id": "dfa32d88",
   "metadata": {},
   "outputs": [
    {
     "name": "stdout",
     "output_type": "stream",
     "text": [
      "['apple', 'mango']\n",
      "Index 0= apple Index 1= mango Index 2= guava\n"
     ]
    }
   ],
   "source": [
    "print(fruitlist[0:2])\n",
    "print(\"Index 0=\",fruitlist[0],\"Index 1=\",fruitlist[1],\"Index 2=\",fruitlist[2])"
   ]
  },
  {
   "cell_type": "markdown",
   "id": "494f661c",
   "metadata": {},
   "source": [
    "### Negative and Positive Indexing"
   ]
  },
  {
   "cell_type": "code",
   "execution_count": 34,
   "id": "8b626494",
   "metadata": {},
   "outputs": [
    {
     "name": "stdout",
     "output_type": "stream",
     "text": [
      "Fruit List ['apple', 'mango', 'guava', 'papaya', 'Grapes', 'banana']\n",
      "Index 0 = apple\n",
      "Index -1= banana\n",
      "Index -3= papaya\n",
      "Index -6= apple\n"
     ]
    }
   ],
   "source": [
    "print(\"Fruit List\",fruitlist)\n",
    "print(\"Index 0 =\",fruitlist[0])\n",
    "print(\"Index -1=\",fruitlist[-1])\n",
    "print(\"Index -3=\",fruitlist[-3])\n",
    "print(\"Index -6=\",fruitlist[-6])"
   ]
  },
  {
   "cell_type": "code",
   "execution_count": 35,
   "id": "4e8213ce",
   "metadata": {},
   "outputs": [
    {
     "data": {
      "text/plain": [
       "['banana']"
      ]
     },
     "execution_count": 35,
     "metadata": {},
     "output_type": "execute_result"
    }
   ],
   "source": [
    "fruitlist[-1:]"
   ]
  },
  {
   "cell_type": "code",
   "execution_count": 36,
   "id": "a06883ba",
   "metadata": {},
   "outputs": [
    {
     "data": {
      "text/plain": [
       "['papaya', 'Grapes']"
      ]
     },
     "execution_count": 36,
     "metadata": {},
     "output_type": "execute_result"
    }
   ],
   "source": [
    "# -3 is lower and -1 is higher in Negative Indexing\n",
    "fruitlist[-3:-1] # here minus 1 is the end index"
   ]
  },
  {
   "cell_type": "code",
   "execution_count": 37,
   "id": "6fd9c7ac",
   "metadata": {},
   "outputs": [
    {
     "data": {
      "text/plain": [
       "['papaya', 'Grapes', 'banana']"
      ]
     },
     "execution_count": 37,
     "metadata": {},
     "output_type": "execute_result"
    }
   ],
   "source": [
    "fruitlist[-3:] # here nill is till end index"
   ]
  },
  {
   "cell_type": "code",
   "execution_count": 38,
   "id": "32177fa1",
   "metadata": {},
   "outputs": [
    {
     "data": {
      "text/plain": [
       "['banana', 'Grapes', 'papaya', 'guava', 'mango', 'apple']"
      ]
     },
     "execution_count": 38,
     "metadata": {},
     "output_type": "execute_result"
    }
   ],
   "source": [
    "# list got reversed\n",
    "\n",
    "fruitlist[::-1]"
   ]
  },
  {
   "cell_type": "code",
   "execution_count": 40,
   "id": "aca24eaa",
   "metadata": {},
   "outputs": [
    {
     "data": {
      "text/plain": [
       "['apple', 'mango', 'guava', 'papaya', 'Grapes', 'banana']"
      ]
     },
     "execution_count": 40,
     "metadata": {},
     "output_type": "execute_result"
    }
   ],
   "source": [
    "fruitlist[-8:]"
   ]
  },
  {
   "cell_type": "code",
   "execution_count": 42,
   "id": "ffa46a2b",
   "metadata": {},
   "outputs": [
    {
     "name": "stdout",
     "output_type": "stream",
     "text": [
      "Fruit List\n",
      " ['apple', 'mango', 'guava', 'papaya', 'Grapes', 'banana']\n",
      "Length of Fruitlist 6\n",
      "Original Fruitlist ['apple', 'mango', 'guava', 'papaya', 'Grapes', 'banana']\n",
      "Reversed Fruitlist ['banana', 'Grapes', 'papaya', 'guava', 'mango', 'apple']\n",
      "\n",
      "\n",
      "Negative Indexing\n",
      " banana Grapes papaya guava mango apple\n"
     ]
    }
   ],
   "source": [
    "print(\"Fruit List\\n\",fruitlist)\n",
    "\n",
    "# creating instance\n",
    "fs=fruitlist\n",
    "print(\"Length of Fruitlist\",len(fruitlist))\n",
    "print(\"Original Fruitlist\",fruitlist[:])\n",
    "print(\"Reversed Fruitlist\",fruitlist[::-1])\n",
    "print(\"\\n\\nNegative Indexing\\n\",fruitlist[-1],fruitlist[-2],fruitlist[-3],fruitlist[-4],\n",
    "     fruitlist[-5],fruitlist[-6])"
   ]
  },
  {
   "cell_type": "code",
   "execution_count": 43,
   "id": "eefec4b1",
   "metadata": {},
   "outputs": [],
   "source": [
    "# Appended to Add the data\n",
    "# sort will sort the data\n",
    "# reverse will reverse the data\n",
    "# insert will insert the data\n",
    "# pop will delete the data\n",
    "# remove will remove the data "
   ]
  },
  {
   "cell_type": "code",
   "execution_count": 2,
   "id": "c223eea0",
   "metadata": {},
   "outputs": [
    {
     "name": "stdout",
     "output_type": "stream",
     "text": [
      "Empty List []\n",
      "New Planet List ['Mercury', 'Jupiter', 'Saturn']\n"
     ]
    }
   ],
   "source": [
    "# Making an list\n",
    "\n",
    "planetlist=[]\n",
    "print(\"Empty List\",planetlist)\n",
    "\n",
    "planetlist=['Mercury','Jupiter','Saturn']\n",
    "print(\"New Planet List\",planetlist)"
   ]
  },
  {
   "cell_type": "code",
   "execution_count": 3,
   "id": "5091caa1",
   "metadata": {},
   "outputs": [
    {
     "data": {
      "text/plain": [
       "['Mercury', 'Jupiter', 'Saturn', 'Earth']"
      ]
     },
     "execution_count": 3,
     "metadata": {},
     "output_type": "execute_result"
    }
   ],
   "source": [
    "# creating instance as pl\n",
    "pl=planetlist\n",
    "\n",
    "pl.append('Earth')\n",
    "pl"
   ]
  },
  {
   "cell_type": "code",
   "execution_count": 5,
   "id": "89bc079f",
   "metadata": {},
   "outputs": [
    {
     "name": "stdout",
     "output_type": "stream",
     "text": [
      "['Mercury', 'Jupiter', 'Saturn', 'Earth', 'Pluto', 'Uranus']\n"
     ]
    }
   ],
   "source": [
    "# adding more than one element\n",
    "pl.extend(['Pluto','Uranus'])\n",
    "print(pl)"
   ]
  },
  {
   "cell_type": "code",
   "execution_count": 7,
   "id": "3463c5b9",
   "metadata": {},
   "outputs": [
    {
     "data": {
      "text/plain": [
       "['Mercury', 'Saturn', 'Earth', 'Pluto', 'Uranus']"
      ]
     },
     "execution_count": 7,
     "metadata": {},
     "output_type": "execute_result"
    }
   ],
   "source": [
    "# delete \n",
    "pl.pop(1)\n",
    "pl"
   ]
  },
  {
   "cell_type": "code",
   "execution_count": 9,
   "id": "08ee1310",
   "metadata": {},
   "outputs": [
    {
     "data": {
      "text/plain": [
       "['Mercury', 'Saturn', 'Pluto', 'Uranus']"
      ]
     },
     "execution_count": 9,
     "metadata": {},
     "output_type": "execute_result"
    }
   ],
   "source": [
    "pl.remove('Earth')\n",
    "pl"
   ]
  },
  {
   "cell_type": "code",
   "execution_count": 14,
   "id": "bec957b6",
   "metadata": {},
   "outputs": [
    {
     "data": {
      "text/plain": [
       "0"
      ]
     },
     "execution_count": 14,
     "metadata": {},
     "output_type": "execute_result"
    }
   ],
   "source": [
    "pl.count(0)"
   ]
  },
  {
   "cell_type": "code",
   "execution_count": 17,
   "id": "4f20142b",
   "metadata": {},
   "outputs": [
    {
     "data": {
      "text/plain": [
       "0"
      ]
     },
     "execution_count": 17,
     "metadata": {},
     "output_type": "execute_result"
    }
   ],
   "source": [
    "# will show index position\n",
    "pl.index('Mercury')"
   ]
  },
  {
   "cell_type": "code",
   "execution_count": 18,
   "id": "7488d905",
   "metadata": {},
   "outputs": [
    {
     "data": {
      "text/plain": [
       "['Mercury', 'Earth', 'Saturn', 'Pluto', 'Uranus']"
      ]
     },
     "execution_count": 18,
     "metadata": {},
     "output_type": "execute_result"
    }
   ],
   "source": [
    "# added earth in 1st index\n",
    "\n",
    "pl.insert(1,'Earth')\n",
    "pl"
   ]
  },
  {
   "cell_type": "code",
   "execution_count": 20,
   "id": "149e0803",
   "metadata": {},
   "outputs": [
    {
     "name": "stdout",
     "output_type": "stream",
     "text": [
      "Original\n",
      " ['Mercury', 'Earth', 'Saturn', 'Pluto', 'Uranus']\n",
      "After Sorting None\n"
     ]
    }
   ],
   "source": [
    "print(\"Original\\n\",pl)"
   ]
  },
  {
   "cell_type": "code",
   "execution_count": 26,
   "id": "74e701bd",
   "metadata": {},
   "outputs": [
    {
     "data": {
      "text/plain": [
       "['Earth', 'Mercury', 'Pluto', 'Saturn', 'Uranus']"
      ]
     },
     "execution_count": 26,
     "metadata": {},
     "output_type": "execute_result"
    }
   ],
   "source": [
    "# will sort in ascending order\n",
    "pl.sort()\n",
    "pl"
   ]
  },
  {
   "cell_type": "code",
   "execution_count": 27,
   "id": "d88ecf9c",
   "metadata": {},
   "outputs": [
    {
     "data": {
      "text/plain": [
       "['Uranus', 'Saturn', 'Pluto', 'Mercury', 'Earth']"
      ]
     },
     "execution_count": 27,
     "metadata": {},
     "output_type": "execute_result"
    }
   ],
   "source": [
    "# reverse will reverse the list, last will come first\n",
    "pl.reverse()\n",
    "pl"
   ]
  },
  {
   "cell_type": "code",
   "execution_count": 28,
   "id": "54be482a",
   "metadata": {},
   "outputs": [],
   "source": [
    "# clear data\n",
    "pl.clear()"
   ]
  },
  {
   "cell_type": "code",
   "execution_count": 29,
   "id": "a2e6b6de",
   "metadata": {},
   "outputs": [
    {
     "name": "stdout",
     "output_type": "stream",
     "text": [
      "None\n"
     ]
    }
   ],
   "source": [
    "print(pl.clear())"
   ]
  },
  {
   "cell_type": "code",
   "execution_count": 31,
   "id": "425eb9cd",
   "metadata": {},
   "outputs": [],
   "source": [
    "# delete list\n",
    "del pl"
   ]
  },
  {
   "cell_type": "code",
   "execution_count": 32,
   "id": "06631437",
   "metadata": {},
   "outputs": [
    {
     "ename": "NameError",
     "evalue": "name 'pl' is not defined",
     "output_type": "error",
     "traceback": [
      "\u001b[1;31m---------------------------------------------------------------------------\u001b[0m",
      "\u001b[1;31mNameError\u001b[0m                                 Traceback (most recent call last)",
      "\u001b[1;32m~\\AppData\\Local\\Temp\\ipykernel_4216\\501541493.py\u001b[0m in \u001b[0;36m<module>\u001b[1;34m\u001b[0m\n\u001b[1;32m----> 1\u001b[1;33m \u001b[0mpl\u001b[0m\u001b[1;33m\u001b[0m\u001b[1;33m\u001b[0m\u001b[0m\n\u001b[0m",
      "\u001b[1;31mNameError\u001b[0m: name 'pl' is not defined"
     ]
    }
   ],
   "source": [
    "# shows pl is not present\n",
    "pl"
   ]
  },
  {
   "cell_type": "markdown",
   "id": "249978de",
   "metadata": {},
   "source": [
    "## Tuple"
   ]
  },
  {
   "cell_type": "code",
   "execution_count": 33,
   "id": "c1f18a35",
   "metadata": {},
   "outputs": [],
   "source": [
    "# Tuples are Immutable\n",
    "# tuple is written under ()\n"
   ]
  },
  {
   "cell_type": "code",
   "execution_count": 34,
   "id": "060e7985",
   "metadata": {},
   "outputs": [
    {
     "data": {
      "text/plain": [
       "(1, 2, 3, 4)"
      ]
     },
     "execution_count": 34,
     "metadata": {},
     "output_type": "execute_result"
    }
   ],
   "source": [
    "ti=(1,2,3,4)\n",
    "ti"
   ]
  },
  {
   "cell_type": "code",
   "execution_count": 35,
   "id": "ca1da5ee",
   "metadata": {},
   "outputs": [
    {
     "data": {
      "text/plain": [
       "2"
      ]
     },
     "execution_count": 35,
     "metadata": {},
     "output_type": "execute_result"
    }
   ],
   "source": [
    "# shows value at index position\n",
    "ti[1]"
   ]
  },
  {
   "cell_type": "code",
   "execution_count": 36,
   "id": "809ff187",
   "metadata": {},
   "outputs": [
    {
     "ename": "TypeError",
     "evalue": "'tuple' object does not support item assignment",
     "output_type": "error",
     "traceback": [
      "\u001b[1;31m---------------------------------------------------------------------------\u001b[0m",
      "\u001b[1;31mTypeError\u001b[0m                                 Traceback (most recent call last)",
      "\u001b[1;32m~\\AppData\\Local\\Temp\\ipykernel_4216\\3087763255.py\u001b[0m in \u001b[0;36m<module>\u001b[1;34m\u001b[0m\n\u001b[1;32m----> 1\u001b[1;33m \u001b[0mti\u001b[0m\u001b[1;33m[\u001b[0m\u001b[1;36m1\u001b[0m\u001b[1;33m]\u001b[0m\u001b[1;33m=\u001b[0m\u001b[1;36m800\u001b[0m\u001b[1;33m\u001b[0m\u001b[1;33m\u001b[0m\u001b[0m\n\u001b[0m",
      "\u001b[1;31mTypeError\u001b[0m: 'tuple' object does not support item assignment"
     ]
    }
   ],
   "source": [
    "ti[1]=800"
   ]
  },
  {
   "cell_type": "code",
   "execution_count": 1,
   "id": "90f98775",
   "metadata": {},
   "outputs": [],
   "source": [
    "# can't be edited as tuple is immutable in nature"
   ]
  },
  {
   "cell_type": "markdown",
   "id": "cad2ca4a",
   "metadata": {},
   "source": [
    "## Dictionary"
   ]
  },
  {
   "cell_type": "code",
   "execution_count": 2,
   "id": "8a3cff7d",
   "metadata": {},
   "outputs": [],
   "source": [
    "# Dictionary is the values and key pair"
   ]
  },
  {
   "cell_type": "code",
   "execution_count": 3,
   "id": "bb569963",
   "metadata": {},
   "outputs": [
    {
     "name": "stdout",
     "output_type": "stream",
     "text": [
      "{}\n"
     ]
    },
    {
     "data": {
      "text/plain": [
       "{'emp1': 100, 'Emp Name': 'Rohit', 'Emp Company': 'Google'}"
      ]
     },
     "execution_count": 3,
     "metadata": {},
     "output_type": "execute_result"
    }
   ],
   "source": [
    "dic={}\n",
    "print(dic)\n",
    "\n",
    "# key1:value1,key2:value2,key3:value3\n",
    "\n",
    "dic={'emp1':100,'Emp Name':'Rohit','Emp Company':'Google'}\n",
    "dic"
   ]
  },
  {
   "cell_type": "code",
   "execution_count": 4,
   "id": "9a9f85cb",
   "metadata": {},
   "outputs": [
    {
     "data": {
      "text/plain": [
       "dict_values([100, 'Rohit', 'Google'])"
      ]
     },
     "execution_count": 4,
     "metadata": {},
     "output_type": "execute_result"
    }
   ],
   "source": [
    "dic.values()"
   ]
  },
  {
   "cell_type": "code",
   "execution_count": 6,
   "id": "e20e7463",
   "metadata": {},
   "outputs": [
    {
     "data": {
      "text/plain": [
       "dict_keys(['emp1', 'Emp Name', 'Emp Company'])"
      ]
     },
     "execution_count": 6,
     "metadata": {},
     "output_type": "execute_result"
    }
   ],
   "source": [
    "dic.keys()"
   ]
  },
  {
   "cell_type": "code",
   "execution_count": 7,
   "id": "1481f9f3",
   "metadata": {},
   "outputs": [
    {
     "data": {
      "text/plain": [
       "dict_items([('emp1', 100), ('Emp Name', 'Rohit'), ('Emp Company', 'Google')])"
      ]
     },
     "execution_count": 7,
     "metadata": {},
     "output_type": "execute_result"
    }
   ],
   "source": [
    "dic.items()"
   ]
  },
  {
   "cell_type": "code",
   "execution_count": 8,
   "id": "efd678ed",
   "metadata": {},
   "outputs": [
    {
     "data": {
      "text/plain": [
       "{'EmpId': 201, 'Emp Name': 'Chetan', 'Emp Company': 'Choice'}"
      ]
     },
     "execution_count": 8,
     "metadata": {},
     "output_type": "execute_result"
    }
   ],
   "source": [
    "mydic={'EmpId':201,\"Emp Name\":'Chetan','Emp Company':'Choice'}\n",
    "mydic"
   ]
  },
  {
   "cell_type": "code",
   "execution_count": 9,
   "id": "2dfccca2",
   "metadata": {},
   "outputs": [
    {
     "data": {
      "text/plain": [
       "201"
      ]
     },
     "execution_count": 9,
     "metadata": {},
     "output_type": "execute_result"
    }
   ],
   "source": [
    "mydic['EmpId']"
   ]
  },
  {
   "cell_type": "code",
   "execution_count": 10,
   "id": "ac94f602",
   "metadata": {},
   "outputs": [
    {
     "name": "stdout",
     "output_type": "stream",
     "text": [
      "Emp NAME Chetan\n",
      "Emp Company Choice\n"
     ]
    }
   ],
   "source": [
    "print(\"Emp NAME\",mydic['Emp Name'])\n",
    "print(\"Emp Company\",mydic['Emp Company'])"
   ]
  },
  {
   "cell_type": "code",
   "execution_count": 13,
   "id": "72cda112",
   "metadata": {},
   "outputs": [
    {
     "data": {
      "text/plain": [
       "{'EmpId': 201, 'Emp Name': 'Hello', 'Emp Company': 'Choice'}"
      ]
     },
     "execution_count": 13,
     "metadata": {},
     "output_type": "execute_result"
    }
   ],
   "source": [
    "mydic['Emp Name']='Hello'\n",
    "mydic"
   ]
  },
  {
   "cell_type": "code",
   "execution_count": 15,
   "id": "7c37ecf8",
   "metadata": {},
   "outputs": [
    {
     "name": "stdout",
     "output_type": "stream",
     "text": [
      "Checking Keys : dict_keys(['EmpId', 'Emp Name', 'Emp Company']) \n",
      "Checking Values : dict_values([201, 'Hello', 'Choice']) \n",
      "Checking Items : dict_items([('EmpId', 201), ('Emp Name', 'Hello'), ('Emp Company', 'Choice')])\n"
     ]
    }
   ],
   "source": [
    "print(\"Checking Keys :\",mydic.keys(),\"\\nChecking Values :\",mydic.values(),\"\\nChecking Items :\",mydic.items())"
   ]
  },
  {
   "cell_type": "code",
   "execution_count": 16,
   "id": "0e2b168b",
   "metadata": {},
   "outputs": [
    {
     "name": "stdout",
     "output_type": "stream",
     "text": [
      "Length 3\n"
     ]
    }
   ],
   "source": [
    "# checking the length of dictionary\n",
    "\n",
    "print(\"Length\",len(mydic))"
   ]
  },
  {
   "cell_type": "code",
   "execution_count": 17,
   "id": "b10701fa",
   "metadata": {},
   "outputs": [],
   "source": [
    "# Updating will add new keys and values to dictionary\n",
    "mydic.update({'Salary':5000})"
   ]
  },
  {
   "cell_type": "code",
   "execution_count": 18,
   "id": "706c9623",
   "metadata": {},
   "outputs": [
    {
     "data": {
      "text/plain": [
       "{'EmpId': 201, 'Emp Name': 'Hello', 'Emp Company': 'Choice', 'Salary': 5000}"
      ]
     },
     "execution_count": 18,
     "metadata": {},
     "output_type": "execute_result"
    }
   ],
   "source": [
    "mydic"
   ]
  },
  {
   "cell_type": "code",
   "execution_count": 19,
   "id": "eb39b96c",
   "metadata": {},
   "outputs": [
    {
     "data": {
      "text/plain": [
       "{'EmpId': 201, 'Emp Name': 'Hello', 'Emp Company': 'Choice', 'Salary': 9500}"
      ]
     },
     "execution_count": 19,
     "metadata": {},
     "output_type": "execute_result"
    }
   ],
   "source": [
    "mydic['Salary']=9500\n",
    "mydic"
   ]
  },
  {
   "cell_type": "code",
   "execution_count": 20,
   "id": "1096b4ab",
   "metadata": {},
   "outputs": [
    {
     "name": "stdout",
     "output_type": "stream",
     "text": [
      "{'EmpId': 201, 'Emp Name': 'Gaurav', 'Emp Company': 'Choice', 'Salary': 9500}\n"
     ]
    }
   ],
   "source": [
    "mydic['Emp Name']='Gaurav'\n",
    "print(mydic)"
   ]
  },
  {
   "cell_type": "code",
   "execution_count": 21,
   "id": "b40252ca",
   "metadata": {},
   "outputs": [
    {
     "data": {
      "text/plain": [
       "{'Rock': 'Brown', 'Trees': 'Green', 'Apple': 'Red', 'Banana': 'Yellow'}"
      ]
     },
     "execution_count": 21,
     "metadata": {},
     "output_type": "execute_result"
    }
   ],
   "source": [
    "# Make a dictionary naming colordict with key and value pair\n",
    "colordict={'Rock':'Brown','Trees':'Green','Apple':'Red','Banana':'Yellow'}\n",
    "colordict"
   ]
  },
  {
   "cell_type": "code",
   "execution_count": 23,
   "id": "6a58b308",
   "metadata": {},
   "outputs": [
    {
     "name": "stdout",
     "output_type": "stream",
     "text": [
      "Values dict_values(['Brown', 'Green', 'Red', 'Yellow'])\n",
      "Keys dict_keys(['Rock', 'Trees', 'Apple', 'Banana'])\n",
      "\n",
      "\n",
      "Items\n",
      " dict_items([('Rock', 'Brown'), ('Trees', 'Green'), ('Apple', 'Red'), ('Banana', 'Yellow')])\n"
     ]
    }
   ],
   "source": [
    "print(\"Values\",colordict.values())\n",
    "print(\"Keys\",colordict.keys())\n",
    "print(\"\\n\\nItems\\n\",colordict.items())"
   ]
  },
  {
   "cell_type": "code",
   "execution_count": 24,
   "id": "51d0f39b",
   "metadata": {},
   "outputs": [
    {
     "data": {
      "text/plain": [
       "{10: 'Ruby', 20: 'Rails', 30: 'Python', 40: 'Java', 50: 'C++'}"
      ]
     },
     "execution_count": 24,
     "metadata": {},
     "output_type": "execute_result"
    }
   ],
   "source": [
    "# Dictionary with integer keys:\n",
    "indict={10:'Ruby',20:'Rails',30:'Python',40:'Java',50:'C++'}\n",
    "indict"
   ]
  },
  {
   "cell_type": "code",
   "execution_count": 25,
   "id": "e45e50dc",
   "metadata": {},
   "outputs": [
    {
     "name": "stdout",
     "output_type": "stream",
     "text": [
      "{20: 'Rails', 30: 'Python', 40: 'Java', 50: 'C++'}\n"
     ]
    }
   ],
   "source": [
    "#  delete perticular key\n",
    "del indict[10]\n",
    "print(indict)"
   ]
  },
  {
   "cell_type": "code",
   "execution_count": 26,
   "id": "641ec18f",
   "metadata": {},
   "outputs": [
    {
     "name": "stdout",
     "output_type": "stream",
     "text": [
      "{20: 'Rails', 30: 'Python', 40: 'Java'}\n"
     ]
    }
   ],
   "source": [
    "indict.pop(50)\n",
    "print(indict)"
   ]
  },
  {
   "cell_type": "code",
   "execution_count": 28,
   "id": "24e3a470",
   "metadata": {},
   "outputs": [
    {
     "data": {
      "text/plain": [
       "{20: 'Rails', 30: 'Python', 40: 'Java', 10: 'C++'}"
      ]
     },
     "execution_count": 28,
     "metadata": {},
     "output_type": "execute_result"
    }
   ],
   "source": [
    "indict.update({10:'C++'})\n",
    "indict"
   ]
  },
  {
   "cell_type": "code",
   "execution_count": 31,
   "id": "417b73db",
   "metadata": {},
   "outputs": [
    {
     "data": {
      "text/plain": [
       "'C++'"
      ]
     },
     "execution_count": 31,
     "metadata": {},
     "output_type": "execute_result"
    }
   ],
   "source": [
    "indict.setdefault(10)"
   ]
  },
  {
   "cell_type": "code",
   "execution_count": 32,
   "id": "76fa2740",
   "metadata": {},
   "outputs": [
    {
     "data": {
      "text/plain": [
       "dict_values(['Rails', 'Python', 'Java', 'C++'])"
      ]
     },
     "execution_count": 32,
     "metadata": {},
     "output_type": "execute_result"
    }
   ],
   "source": [
    "indict.values()"
   ]
  },
  {
   "cell_type": "code",
   "execution_count": 33,
   "id": "7052ed97",
   "metadata": {},
   "outputs": [
    {
     "data": {
      "text/plain": [
       "dict_keys([20, 30, 40, 10])"
      ]
     },
     "execution_count": 33,
     "metadata": {},
     "output_type": "execute_result"
    }
   ],
   "source": [
    "indict.keys()"
   ]
  },
  {
   "cell_type": "code",
   "execution_count": 34,
   "id": "611bd237",
   "metadata": {},
   "outputs": [
    {
     "data": {
      "text/plain": [
       "dict_items([(20, 'Rails'), (30, 'Python'), (40, 'Java'), (10, 'C++')])"
      ]
     },
     "execution_count": 34,
     "metadata": {},
     "output_type": "execute_result"
    }
   ],
   "source": [
    "indict.items()"
   ]
  },
  {
   "cell_type": "markdown",
   "id": "57bf0ef5",
   "metadata": {},
   "source": [
    "### Dictionary with Multiple values"
   ]
  },
  {
   "cell_type": "code",
   "execution_count": 35,
   "id": "32deb508",
   "metadata": {},
   "outputs": [
    {
     "data": {
      "text/plain": [
       "{'id': [1, 2, 3], 'name': ['A', 'B', 'C'], 'grade': ['First', 'sec', 'Third']}"
      ]
     },
     "execution_count": 35,
     "metadata": {},
     "output_type": "execute_result"
    }
   ],
   "source": [
    "dict2={'id':[1,2,3],'name':['A','B','C'],'grade':['First','sec','Third']}\n",
    "dict2"
   ]
  },
  {
   "cell_type": "code",
   "execution_count": 36,
   "id": "14d4094d",
   "metadata": {},
   "outputs": [
    {
     "data": {
      "text/plain": [
       "{1: ['Red', 'Blue', 'Black'],\n",
       " 2: ['Orange', 'Green', 'Pink'],\n",
       " 3: ['yellow', 'Violet', 'Light Green']}"
      ]
     },
     "execution_count": 36,
     "metadata": {},
     "output_type": "execute_result"
    }
   ],
   "source": [
    "newdict={1:['Red','Blue','Black'],2:['Orange','Green','Pink'],3:['yellow','Violet','Light Green']}\n",
    "newdict"
   ]
  },
  {
   "cell_type": "code",
   "execution_count": 37,
   "id": "1b9401ca",
   "metadata": {},
   "outputs": [
    {
     "data": {
      "text/plain": [
       "{1: ['Red', 'Blue', 'Black'],\n",
       " 2: ['Orange', 'Green', 'Pink'],\n",
       " 3: ['yellow', 'Violet', 'Light Green'],\n",
       " 4: ['Light Red', 'Light Blue', 'Light Orange']}"
      ]
     },
     "execution_count": 37,
     "metadata": {},
     "output_type": "execute_result"
    }
   ],
   "source": [
    "newdict.update({4:['Light Red','Light Blue','Light Orange']})\n",
    "newdict"
   ]
  },
  {
   "cell_type": "code",
   "execution_count": 39,
   "id": "b742a4c5",
   "metadata": {},
   "outputs": [
    {
     "name": "stdout",
     "output_type": "stream",
     "text": [
      "This will delete the containts of Dictionary\n",
      "{}\n"
     ]
    }
   ],
   "source": [
    "print(\"This will delete the containts of Dictionary\")\n",
    "newdict.clear()\n",
    "print(newdict)"
   ]
  },
  {
   "cell_type": "code",
   "execution_count": 40,
   "id": "d4aa157f",
   "metadata": {},
   "outputs": [
    {
     "name": "stdout",
     "output_type": "stream",
     "text": [
      "This code will delete the dictionary\n"
     ]
    }
   ],
   "source": [
    "print(\"This code will delete the dictionary\")\n",
    "del newdict"
   ]
  },
  {
   "cell_type": "markdown",
   "id": "32538d36",
   "metadata": {},
   "source": [
    "### SETS"
   ]
  },
  {
   "cell_type": "markdown",
   "id": "6063e9a5",
   "metadata": {},
   "source": [
    "- immutable\n",
    "- unordered\n",
    "- no duplicates\n",
    "- no index"
   ]
  },
  {
   "cell_type": "code",
   "execution_count": 41,
   "id": "51a71878",
   "metadata": {},
   "outputs": [
    {
     "data": {
      "text/plain": [
       "{1, 2, 3, 4, 5, 67, 78, 88, 99}"
      ]
     },
     "execution_count": 41,
     "metadata": {},
     "output_type": "execute_result"
    }
   ],
   "source": [
    "set1={1,2,3,4,4,5,67,78,78,88,99}\n",
    "set1"
   ]
  },
  {
   "cell_type": "code",
   "execution_count": 43,
   "id": "a31768aa",
   "metadata": {},
   "outputs": [
    {
     "name": "stdout",
     "output_type": "stream",
     "text": [
      "Will show error as no indexing\n"
     ]
    },
    {
     "ename": "TypeError",
     "evalue": "'set' object is not subscriptable",
     "output_type": "error",
     "traceback": [
      "\u001b[1;31m---------------------------------------------------------------------------\u001b[0m",
      "\u001b[1;31mTypeError\u001b[0m                                 Traceback (most recent call last)",
      "\u001b[1;32m~\\AppData\\Local\\Temp\\ipykernel_14964\\2093713157.py\u001b[0m in \u001b[0;36m<module>\u001b[1;34m\u001b[0m\n\u001b[0;32m      1\u001b[0m \u001b[0mprint\u001b[0m\u001b[1;33m(\u001b[0m\u001b[1;34m\"Will show error as no indexing\"\u001b[0m\u001b[1;33m)\u001b[0m\u001b[1;33m\u001b[0m\u001b[1;33m\u001b[0m\u001b[0m\n\u001b[1;32m----> 2\u001b[1;33m \u001b[0mset1\u001b[0m\u001b[1;33m[\u001b[0m\u001b[1;36m1\u001b[0m\u001b[1;33m]\u001b[0m\u001b[1;33m\u001b[0m\u001b[1;33m\u001b[0m\u001b[0m\n\u001b[0m",
      "\u001b[1;31mTypeError\u001b[0m: 'set' object is not subscriptable"
     ]
    }
   ],
   "source": [
    "print(\"Will show error as no indexing\")\n",
    "set1[1]"
   ]
  },
  {
   "cell_type": "code",
   "execution_count": 44,
   "id": "4d657923",
   "metadata": {},
   "outputs": [
    {
     "ename": "TypeError",
     "evalue": "'builtin_function_or_method' object is not subscriptable",
     "output_type": "error",
     "traceback": [
      "\u001b[1;31m---------------------------------------------------------------------------\u001b[0m",
      "\u001b[1;31mTypeError\u001b[0m                                 Traceback (most recent call last)",
      "\u001b[1;32m~\\AppData\\Local\\Temp\\ipykernel_14964\\529092942.py\u001b[0m in \u001b[0;36m<module>\u001b[1;34m\u001b[0m\n\u001b[0;32m      1\u001b[0m \u001b[1;31m# pop won't work\u001b[0m\u001b[1;33m\u001b[0m\u001b[1;33m\u001b[0m\u001b[0m\n\u001b[1;32m----> 2\u001b[1;33m \u001b[0mset1\u001b[0m\u001b[1;33m.\u001b[0m\u001b[0mpop\u001b[0m\u001b[1;33m[\u001b[0m\u001b[1;36m1\u001b[0m\u001b[1;33m]\u001b[0m\u001b[1;33m\u001b[0m\u001b[1;33m\u001b[0m\u001b[0m\n\u001b[0m",
      "\u001b[1;31mTypeError\u001b[0m: 'builtin_function_or_method' object is not subscriptable"
     ]
    }
   ],
   "source": [
    "# pop won't work\n",
    "set1.pop[1]"
   ]
  },
  {
   "cell_type": "code",
   "execution_count": 45,
   "id": "77946ce5",
   "metadata": {},
   "outputs": [
    {
     "name": "stdout",
     "output_type": "stream",
     "text": [
      "POP method will delete any random data 1\n"
     ]
    }
   ],
   "source": [
    "print(\"POP method will delete any random data\",set1.pop())"
   ]
  },
  {
   "cell_type": "code",
   "execution_count": 46,
   "id": "120f3d77",
   "metadata": {},
   "outputs": [
    {
     "name": "stdout",
     "output_type": "stream",
     "text": [
      "{2, 3, 4, 5, 67, 99, 78, 88}\n"
     ]
    }
   ],
   "source": [
    "print(set1)"
   ]
  },
  {
   "cell_type": "code",
   "execution_count": 47,
   "id": "3da8c0ab",
   "metadata": {},
   "outputs": [
    {
     "data": {
      "text/plain": [
       "{3, 4, 5, 67, 78, 88, 99}"
      ]
     },
     "execution_count": 47,
     "metadata": {},
     "output_type": "execute_result"
    }
   ],
   "source": [
    "set1.pop()\n",
    "set1"
   ]
  },
  {
   "cell_type": "code",
   "execution_count": 48,
   "id": "4095f68a",
   "metadata": {},
   "outputs": [
    {
     "data": {
      "text/plain": [
       "{4, 5, 67, 78, 88, 99}"
      ]
     },
     "execution_count": 48,
     "metadata": {},
     "output_type": "execute_result"
    }
   ],
   "source": [
    "set1.pop()\n",
    "set1"
   ]
  },
  {
   "cell_type": "code",
   "execution_count": 49,
   "id": "5e1cedea",
   "metadata": {},
   "outputs": [],
   "source": [
    "set1.add(1)"
   ]
  },
  {
   "cell_type": "code",
   "execution_count": 50,
   "id": "5c0950d7",
   "metadata": {},
   "outputs": [
    {
     "data": {
      "text/plain": [
       "{1, 4, 5, 67, 78, 88, 99}"
      ]
     },
     "execution_count": 50,
     "metadata": {},
     "output_type": "execute_result"
    }
   ],
   "source": [
    "set1"
   ]
  },
  {
   "cell_type": "code",
   "execution_count": 51,
   "id": "7b9334f7",
   "metadata": {},
   "outputs": [
    {
     "data": {
      "text/plain": [
       "{1, 2, 4, 5, 67, 78, 88, 99}"
      ]
     },
     "execution_count": 51,
     "metadata": {},
     "output_type": "execute_result"
    }
   ],
   "source": [
    "set1.add(2)\n",
    "set1"
   ]
  },
  {
   "cell_type": "code",
   "execution_count": 52,
   "id": "36ffa466",
   "metadata": {},
   "outputs": [],
   "source": [
    "set1.add(0)"
   ]
  },
  {
   "cell_type": "code",
   "execution_count": 53,
   "id": "78fa936d",
   "metadata": {},
   "outputs": [
    {
     "data": {
      "text/plain": [
       "{0, 1, 2, 4, 5, 67, 78, 88, 99}"
      ]
     },
     "execution_count": 53,
     "metadata": {},
     "output_type": "execute_result"
    }
   ],
   "source": [
    "set1"
   ]
  },
  {
   "cell_type": "code",
   "execution_count": 54,
   "id": "d4716d52",
   "metadata": {},
   "outputs": [
    {
     "name": "stdout",
     "output_type": "stream",
     "text": [
      "{'Wednesday', 'Sunday', 'Tuesday', 'Monday'}\n"
     ]
    },
    {
     "data": {
      "text/plain": [
       "{'Monday', 'Saturday', 'Sunday', 'Tuesday', 'Wednesday'}"
      ]
     },
     "execution_count": 54,
     "metadata": {},
     "output_type": "execute_result"
    }
   ],
   "source": [
    "# For Document\n",
    "set2={'Sunday','Monday','Tuesday','Wednesday'}\n",
    "print(set2)\n",
    "\n",
    "set2.add('Saturday')\n",
    "set2"
   ]
  },
  {
   "cell_type": "code",
   "execution_count": 57,
   "id": "d24a421e",
   "metadata": {},
   "outputs": [
    {
     "data": {
      "text/plain": [
       "'Saturday'"
      ]
     },
     "execution_count": 57,
     "metadata": {},
     "output_type": "execute_result"
    }
   ],
   "source": [
    "set2.pop()"
   ]
  },
  {
   "cell_type": "code",
   "execution_count": 58,
   "id": "3ceefd67",
   "metadata": {},
   "outputs": [
    {
     "data": {
      "text/plain": [
       "'Sunday'"
      ]
     },
     "execution_count": 58,
     "metadata": {},
     "output_type": "execute_result"
    }
   ],
   "source": [
    "set2.pop()"
   ]
  },
  {
   "cell_type": "code",
   "execution_count": 59,
   "id": "4de6eb06",
   "metadata": {},
   "outputs": [
    {
     "name": "stdout",
     "output_type": "stream",
     "text": [
      "POP would delete random values from the set\n"
     ]
    },
    {
     "data": {
      "text/plain": [
       "{'Monday', 'Tuesday', 'Wednesday'}"
      ]
     },
     "execution_count": 59,
     "metadata": {},
     "output_type": "execute_result"
    }
   ],
   "source": [
    "print(\"POP would delete random values from the set\")\n",
    "set2"
   ]
  },
  {
   "cell_type": "code",
   "execution_count": 60,
   "id": "a0c0eca9",
   "metadata": {},
   "outputs": [
    {
     "name": "stdout",
     "output_type": "stream",
     "text": [
      "Set will clear all its containts\n"
     ]
    }
   ],
   "source": [
    "print(\"Set will clear all its containts\")\n",
    "set2.clear()"
   ]
  },
  {
   "cell_type": "code",
   "execution_count": 61,
   "id": "204b7d6f",
   "metadata": {},
   "outputs": [
    {
     "name": "stdout",
     "output_type": "stream",
     "text": [
      "Will delete set Named set2\n"
     ]
    }
   ],
   "source": [
    "print(\"Will delete set Named set2\")\n",
    "del set2"
   ]
  },
  {
   "cell_type": "code",
   "execution_count": null,
   "id": "cb7e58b3",
   "metadata": {},
   "outputs": [],
   "source": []
  }
 ],
 "metadata": {
  "kernelspec": {
   "display_name": "Python 3 (ipykernel)",
   "language": "python",
   "name": "python3"
  },
  "language_info": {
   "codemirror_mode": {
    "name": "ipython",
    "version": 3
   },
   "file_extension": ".py",
   "mimetype": "text/x-python",
   "name": "python",
   "nbconvert_exporter": "python",
   "pygments_lexer": "ipython3",
   "version": "3.9.13"
  }
 },
 "nbformat": 4,
 "nbformat_minor": 5
}
