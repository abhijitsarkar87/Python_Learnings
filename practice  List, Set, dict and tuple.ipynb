{
 "cells": [
  {
   "cell_type": "markdown",
   "id": "fa019c07",
   "metadata": {},
   "source": [
    "## Using Python Calculator\n",
    "\n",
    "#### Operators\n",
    "\n",
    "+,-,*,/"
   ]
  },
  {
   "cell_type": "code",
   "execution_count": 1,
   "id": "a8b461cc",
   "metadata": {},
   "outputs": [
    {
     "data": {
      "text/plain": [
       "4"
      ]
     },
     "execution_count": 1,
     "metadata": {},
     "output_type": "execute_result"
    }
   ],
   "source": [
    "2+2"
   ]
  },
  {
   "cell_type": "code",
   "execution_count": 2,
   "id": "592e9420",
   "metadata": {},
   "outputs": [
    {
     "data": {
      "text/plain": [
       "528"
      ]
     },
     "execution_count": 2,
     "metadata": {},
     "output_type": "execute_result"
    }
   ],
   "source": [
    "(50-6)*12"
   ]
  },
  {
   "cell_type": "code",
   "execution_count": 7,
   "id": "f840eca6",
   "metadata": {},
   "outputs": [
    {
     "name": "stdout",
     "output_type": "stream",
     "text": [
      "Tax = 0.125\n",
      "12.5625\n"
     ]
    },
    {
     "data": {
      "text/plain": [
       "201.12"
      ]
     },
     "execution_count": 7,
     "metadata": {},
     "output_type": "execute_result"
    }
   ],
   "source": [
    "tax=12.5/100\n",
    "print(\"Tax =\",tax)\n",
    "\n",
    "price=100.50\n",
    "\n",
    "print(price*tax)\n",
    "\n",
    "price+_\n",
    "\n",
    "round(_,2)"
   ]
  },
  {
   "cell_type": "code",
   "execution_count": 8,
   "id": "a47be429",
   "metadata": {},
   "outputs": [
    {
     "data": {
      "text/plain": [
       "'spam eggs'"
      ]
     },
     "execution_count": 8,
     "metadata": {},
     "output_type": "execute_result"
    }
   ],
   "source": [
    "'spam eggs'"
   ]
  },
  {
   "cell_type": "code",
   "execution_count": 11,
   "id": "78c87f6d",
   "metadata": {},
   "outputs": [
    {
     "data": {
      "text/plain": [
       "\"doesn't\""
      ]
     },
     "execution_count": 11,
     "metadata": {},
     "output_type": "execute_result"
    }
   ],
   "source": [
    "'doesn\\'t'"
   ]
  },
  {
   "cell_type": "code",
   "execution_count": 12,
   "id": "e6618b98",
   "metadata": {},
   "outputs": [
    {
     "data": {
      "text/plain": [
       "\"doesn't\""
      ]
     },
     "execution_count": 12,
     "metadata": {},
     "output_type": "execute_result"
    }
   ],
   "source": [
    "\"doesn\\'t\""
   ]
  },
  {
   "cell_type": "code",
   "execution_count": 13,
   "id": "33cdd291",
   "metadata": {},
   "outputs": [
    {
     "data": {
      "text/plain": [
       "'\"yes,\" they said'"
      ]
     },
     "execution_count": 13,
     "metadata": {},
     "output_type": "execute_result"
    }
   ],
   "source": [
    "'\"yes,\" they said'"
   ]
  },
  {
   "cell_type": "code",
   "execution_count": 16,
   "id": "1a40710c",
   "metadata": {},
   "outputs": [
    {
     "data": {
      "text/plain": [
       "'\"Yes,\" they said'"
      ]
     },
     "execution_count": 16,
     "metadata": {},
     "output_type": "execute_result"
    }
   ],
   "source": [
    "\"\\\"Yes,\\\" they said\""
   ]
  },
  {
   "cell_type": "code",
   "execution_count": 19,
   "id": "707149e4",
   "metadata": {},
   "outputs": [
    {
     "data": {
      "text/plain": [
       "\"Hello'Abhijit'\""
      ]
     },
     "execution_count": 19,
     "metadata": {},
     "output_type": "execute_result"
    }
   ],
   "source": [
    "'Hello\\'Abhijit\\''"
   ]
  },
  {
   "cell_type": "code",
   "execution_count": 21,
   "id": "498ebdf4",
   "metadata": {},
   "outputs": [
    {
     "data": {
      "text/plain": [
       "\"Isn't,they said\""
      ]
     },
     "execution_count": 21,
     "metadata": {},
     "output_type": "execute_result"
    }
   ],
   "source": [
    "'Isn\\'t,'\"they said\""
   ]
  },
  {
   "cell_type": "code",
   "execution_count": 22,
   "id": "944107c8",
   "metadata": {},
   "outputs": [
    {
     "name": "stdout",
     "output_type": "stream",
     "text": [
      "C:\\some\n",
      "ame\n"
     ]
    }
   ],
   "source": [
    "# here \\n in name gives new line\n",
    "\n",
    "print('C:\\some\\name')"
   ]
  },
  {
   "cell_type": "code",
   "execution_count": 23,
   "id": "d2836625",
   "metadata": {},
   "outputs": [
    {
     "name": "stdout",
     "output_type": "stream",
     "text": [
      "C:\\some\\name\n"
     ]
    }
   ],
   "source": [
    "# here r will give same line\n",
    "\n",
    "print(r'C:\\some\\name')"
   ]
  },
  {
   "cell_type": "code",
   "execution_count": 27,
   "id": "23ac43a3",
   "metadata": {},
   "outputs": [
    {
     "name": "stdout",
     "output_type": "stream",
     "text": [
      "Usage: thingy[OPTIONS]\n",
      "-h\n",
      "-H hostname\n",
      "\n"
     ]
    }
   ],
   "source": [
    "print(\"\"\"\\\n",
    "Usage: thingy[OPTIONS]\n",
    "-h\n",
    "-H hostname\n",
    "\"\"\")"
   ]
  },
  {
   "cell_type": "code",
   "execution_count": 29,
   "id": "9b0669cb",
   "metadata": {},
   "outputs": [
    {
     "data": {
      "text/plain": [
       "'umumumim'"
      ]
     },
     "execution_count": 29,
     "metadata": {},
     "output_type": "execute_result"
    }
   ],
   "source": [
    "3*'um'+'im'"
   ]
  },
  {
   "cell_type": "code",
   "execution_count": 30,
   "id": "24abfb96",
   "metadata": {},
   "outputs": [
    {
     "data": {
      "text/plain": [
       "'Python'"
      ]
     },
     "execution_count": 30,
     "metadata": {},
     "output_type": "execute_result"
    }
   ],
   "source": [
    "'Py'+'thon'"
   ]
  },
  {
   "cell_type": "code",
   "execution_count": 31,
   "id": "200baa4e",
   "metadata": {},
   "outputs": [
    {
     "data": {
      "text/plain": [
       "'P'"
      ]
     },
     "execution_count": 31,
     "metadata": {},
     "output_type": "execute_result"
    }
   ],
   "source": [
    "word='Python'\n",
    "word[0]"
   ]
  },
  {
   "cell_type": "code",
   "execution_count": 32,
   "id": "57ae8920",
   "metadata": {},
   "outputs": [
    {
     "data": {
      "text/plain": [
       "'n'"
      ]
     },
     "execution_count": 32,
     "metadata": {},
     "output_type": "execute_result"
    }
   ],
   "source": [
    "word[5]"
   ]
  },
  {
   "cell_type": "code",
   "execution_count": 33,
   "id": "d04724ca",
   "metadata": {},
   "outputs": [
    {
     "data": {
      "text/plain": [
       "'Pytho'"
      ]
     },
     "execution_count": 33,
     "metadata": {},
     "output_type": "execute_result"
    }
   ],
   "source": [
    "word[0:5]"
   ]
  },
  {
   "cell_type": "code",
   "execution_count": 34,
   "id": "1a97edf8",
   "metadata": {},
   "outputs": [
    {
     "data": {
      "text/plain": [
       "'Jython'"
      ]
     },
     "execution_count": 34,
     "metadata": {},
     "output_type": "execute_result"
    }
   ],
   "source": [
    "'J'+word[1:]"
   ]
  },
  {
   "cell_type": "code",
   "execution_count": 35,
   "id": "06101b13",
   "metadata": {},
   "outputs": [
    {
     "data": {
      "text/plain": [
       "13"
      ]
     },
     "execution_count": 35,
     "metadata": {},
     "output_type": "execute_result"
    }
   ],
   "source": [
    "s=\"Sukumar Bibar\"\n",
    "len(s)"
   ]
  },
  {
   "cell_type": "markdown",
   "id": "73d10b10",
   "metadata": {},
   "source": [
    "# Lists"
   ]
  },
  {
   "cell_type": "code",
   "execution_count": 36,
   "id": "f686f5d7",
   "metadata": {},
   "outputs": [
    {
     "data": {
      "text/plain": [
       "[1, 4, 9, 16, 25]"
      ]
     },
     "execution_count": 36,
     "metadata": {},
     "output_type": "execute_result"
    }
   ],
   "source": [
    "sq=[1,4,9,16,25]\n",
    "sq"
   ]
  },
  {
   "cell_type": "code",
   "execution_count": 37,
   "id": "38026b29",
   "metadata": {},
   "outputs": [
    {
     "data": {
      "text/plain": [
       "1"
      ]
     },
     "execution_count": 37,
     "metadata": {},
     "output_type": "execute_result"
    }
   ],
   "source": [
    "sq[0]"
   ]
  },
  {
   "cell_type": "code",
   "execution_count": 38,
   "id": "5930814e",
   "metadata": {},
   "outputs": [
    {
     "data": {
      "text/plain": [
       "25"
      ]
     },
     "execution_count": 38,
     "metadata": {},
     "output_type": "execute_result"
    }
   ],
   "source": [
    "sq[-1]"
   ]
  },
  {
   "cell_type": "code",
   "execution_count": 40,
   "id": "3a54cddc",
   "metadata": {},
   "outputs": [
    {
     "data": {
      "text/plain": [
       "[9, 16, 25]"
      ]
     },
     "execution_count": 40,
     "metadata": {},
     "output_type": "execute_result"
    }
   ],
   "source": [
    "sq[-3:]"
   ]
  },
  {
   "cell_type": "code",
   "execution_count": 41,
   "id": "3da74d8f",
   "metadata": {},
   "outputs": [
    {
     "data": {
      "text/plain": [
       "[1, 4, 9, 16, 25]"
      ]
     },
     "execution_count": 41,
     "metadata": {},
     "output_type": "execute_result"
    }
   ],
   "source": [
    "sq[:]"
   ]
  },
  {
   "cell_type": "code",
   "execution_count": 42,
   "id": "b7eb5e80",
   "metadata": {},
   "outputs": [
    {
     "data": {
      "text/plain": [
       "[1, 4, 9, 16, 25, 36, 49, 64, 81, 100]"
      ]
     },
     "execution_count": 42,
     "metadata": {},
     "output_type": "execute_result"
    }
   ],
   "source": [
    "sq+[36,49,64,81,100]"
   ]
  },
  {
   "cell_type": "code",
   "execution_count": 43,
   "id": "c4dfe17b",
   "metadata": {},
   "outputs": [
    {
     "data": {
      "text/plain": [
       "65"
      ]
     },
     "execution_count": 43,
     "metadata": {},
     "output_type": "execute_result"
    }
   ],
   "source": [
    "cubes=[1,8,27,65,125]\n",
    "cubes[3]"
   ]
  },
  {
   "cell_type": "code",
   "execution_count": 44,
   "id": "214914cb",
   "metadata": {},
   "outputs": [
    {
     "name": "stdout",
     "output_type": "stream",
     "text": [
      "[1, 8, 27, 64, 125]\n"
     ]
    }
   ],
   "source": [
    "cubes[3]=64\n",
    "print(cubes)"
   ]
  },
  {
   "cell_type": "code",
   "execution_count": 46,
   "id": "e8ee9ae6",
   "metadata": {},
   "outputs": [
    {
     "name": "stdout",
     "output_type": "stream",
     "text": [
      "After Apppened [1, 8, 27, 64, 125, 216, 343, 216] \n",
      "\n",
      "[1, 8, 27, 64, 125, 216, 343, 216, 343]\n"
     ]
    }
   ],
   "source": [
    "cubes.append(216)\n",
    "print(\"After Apppened\",cubes,\"\\n\")\n",
    "\n",
    "cubes.append(7**3)\n",
    "print(cubes)"
   ]
  },
  {
   "cell_type": "code",
   "execution_count": 47,
   "id": "58a5fac6",
   "metadata": {},
   "outputs": [
    {
     "data": {
      "text/plain": [
       "['a', 'b', 'c', 'd', 'e', 'f']"
      ]
     },
     "execution_count": 47,
     "metadata": {},
     "output_type": "execute_result"
    }
   ],
   "source": [
    "letters=['a','b','c','d','e','f']\n",
    "letters"
   ]
  },
  {
   "cell_type": "code",
   "execution_count": 48,
   "id": "84bab25d",
   "metadata": {},
   "outputs": [
    {
     "data": {
      "text/plain": [
       "['a', 'b', 2, 3, 'e', 'f']"
      ]
     },
     "execution_count": 48,
     "metadata": {},
     "output_type": "execute_result"
    }
   ],
   "source": [
    "letters[2:4]=[2,3]\n",
    "letters"
   ]
  },
  {
   "cell_type": "code",
   "execution_count": 49,
   "id": "f9432e3f",
   "metadata": {},
   "outputs": [
    {
     "data": {
      "text/plain": [
       "['a', 'b', 'e', 'f']"
      ]
     },
     "execution_count": 49,
     "metadata": {},
     "output_type": "execute_result"
    }
   ],
   "source": [
    "letters[2:4]=[]\n",
    "letters"
   ]
  },
  {
   "cell_type": "code",
   "execution_count": 57,
   "id": "07e197de",
   "metadata": {},
   "outputs": [
    {
     "name": "stdout",
     "output_type": "stream",
     "text": [
      "Length Function gives count as  4\n"
     ]
    }
   ],
   "source": [
    "letters=['a','b','c','d']\n",
    "print(\"Length Function gives count as \",len(letters))\n"
   ]
  },
  {
   "cell_type": "code",
   "execution_count": 59,
   "id": "59163c42",
   "metadata": {},
   "outputs": [
    {
     "name": "stdout",
     "output_type": "stream",
     "text": [
      "[['a', 'b', 'c'], [1, 2, 3]]\n"
     ]
    }
   ],
   "source": [
    "# making list\n",
    "a=['a','b','c']\n",
    "\n",
    "# another list\n",
    "n=[1,2,3]\n",
    "\n",
    "# final list\n",
    "x=[a,n]\n",
    "print(x)"
   ]
  },
  {
   "cell_type": "code",
   "execution_count": 60,
   "id": "985a4094",
   "metadata": {},
   "outputs": [
    {
     "data": {
      "text/plain": [
       "['a', 'b', 'c']"
      ]
     },
     "execution_count": 60,
     "metadata": {},
     "output_type": "execute_result"
    }
   ],
   "source": [
    "x[0]"
   ]
  },
  {
   "cell_type": "code",
   "execution_count": 61,
   "id": "422550e4",
   "metadata": {},
   "outputs": [
    {
     "data": {
      "text/plain": [
       "[1, 2, 3]"
      ]
     },
     "execution_count": 61,
     "metadata": {},
     "output_type": "execute_result"
    }
   ],
   "source": [
    "x[1]"
   ]
  },
  {
   "cell_type": "code",
   "execution_count": 64,
   "id": "7b2a80c0",
   "metadata": {},
   "outputs": [
    {
     "data": {
      "text/plain": [
       "'b'"
      ]
     },
     "execution_count": 64,
     "metadata": {},
     "output_type": "execute_result"
    }
   ],
   "source": [
    "x[0][1]"
   ]
  },
  {
   "cell_type": "markdown",
   "id": "b34bb710",
   "metadata": {},
   "source": [
    "# Programing"
   ]
  },
  {
   "cell_type": "code",
   "execution_count": 66,
   "id": "34388f11",
   "metadata": {},
   "outputs": [
    {
     "name": "stdout",
     "output_type": "stream",
     "text": [
      "0\n",
      "1\n",
      "1\n",
      "2\n",
      "3\n",
      "5\n",
      "8\n"
     ]
    }
   ],
   "source": [
    "# Fibonacci Series:\n",
    "\n",
    "a,b=0,1\n",
    "while a<10:\n",
    "    print(a)\n",
    "    \n",
    "    a,b=b,a+b"
   ]
  },
  {
   "cell_type": "code",
   "execution_count": 72,
   "id": "348e98ea",
   "metadata": {},
   "outputs": [
    {
     "name": "stdout",
     "output_type": "stream",
     "text": [
      "0,1,1,2,3,5,8,13,21,34,55,89,"
     ]
    }
   ],
   "source": [
    "a,b=0,1\n",
    "while a<100:\n",
    "    print(a,end=',')\n",
    "    a,b=b,a+b"
   ]
  },
  {
   "cell_type": "markdown",
   "id": "103bc8c2",
   "metadata": {},
   "source": [
    "# More on Lists"
   ]
  },
  {
   "cell_type": "code",
   "execution_count": 1,
   "id": "64f19704",
   "metadata": {},
   "outputs": [],
   "source": [
    "# list.append(x)\n",
    "# list.extend(iterable) * would add more than one elements\n",
    "\n",
    "# list.remove(x) * would remove the given item\n",
    "\n",
    "# list.insert(index,x) * would insert the new item in the index position.\n",
    "\n",
    "# list.pop([index])  * would remove the index element, if index is not provided it would delete the last number\n",
    "# list.clear()\n",
    "# list.index(x[,start[,end]])\n",
    "\n",
    "# list.count(x) * would show how many times x appear in list\n",
    "\n",
    "# list.sort(key=None,reverse=False) *would arrange the data in ascending\n",
    "\n",
    "# list.reverse() * Reverse the elements in the list \n",
    "# list.copy() * WOuld copy the list"
   ]
  },
  {
   "cell_type": "code",
   "execution_count": 2,
   "id": "75d05fec",
   "metadata": {},
   "outputs": [
    {
     "name": "stdout",
     "output_type": "stream",
     "text": [
      "Fruit List => ['orange', 'apple', 'pear', 'banana', 'kiwi', 'apple', 'banana']\n",
      "Apple Count  2\n",
      "Pear Count  1\n",
      "Donkey Count  0\n"
     ]
    }
   ],
   "source": [
    "fruitlist=['orange','apple','pear','banana','kiwi','apple','banana']\n",
    "print(\"Fruit List =>\",fruitlist)\n",
    "print(\"Apple Count \",fruitlist.count('apple'))\n",
    "print(\"Pear Count \",fruitlist.count('pear'))\n",
    "print(\"Donkey Count \",fruitlist.count('donkey'))"
   ]
  },
  {
   "cell_type": "code",
   "execution_count": 3,
   "id": "eb905bcd",
   "metadata": {},
   "outputs": [
    {
     "name": "stdout",
     "output_type": "stream",
     "text": [
      "Index Position\n",
      " 1 3\n"
     ]
    }
   ],
   "source": [
    "print(\"Index Position\\n\",fruitlist.index('apple'),fruitlist.index('banana'))"
   ]
  },
  {
   "cell_type": "code",
   "execution_count": 4,
   "id": "2285ea0f",
   "metadata": {},
   "outputs": [],
   "source": [
    "fruitlist.reverse()"
   ]
  },
  {
   "cell_type": "code",
   "execution_count": 5,
   "id": "dc4944df",
   "metadata": {},
   "outputs": [
    {
     "data": {
      "text/plain": [
       "['banana', 'apple', 'kiwi', 'banana', 'pear', 'apple', 'orange']"
      ]
     },
     "execution_count": 5,
     "metadata": {},
     "output_type": "execute_result"
    }
   ],
   "source": [
    "fruitlist"
   ]
  },
  {
   "cell_type": "code",
   "execution_count": 6,
   "id": "b2048ded",
   "metadata": {},
   "outputs": [
    {
     "data": {
      "text/plain": [
       "['banana', 'apple', 'kiwi', 'banana', 'pear', 'apple', 'orange']"
      ]
     },
     "execution_count": 6,
     "metadata": {},
     "output_type": "execute_result"
    }
   ],
   "source": [
    "new=fruitlist.copy()\n",
    "new"
   ]
  },
  {
   "cell_type": "code",
   "execution_count": 13,
   "id": "a1f061fd",
   "metadata": {},
   "outputs": [
    {
     "name": "stdout",
     "output_type": "stream",
     "text": [
      "None ['apple']\n"
     ]
    },
    {
     "data": {
      "text/plain": [
       "['banana', 'apple', 'kiwi', 'banana', 'pear', 'apple']"
      ]
     },
     "execution_count": 13,
     "metadata": {},
     "output_type": "execute_result"
    }
   ],
   "source": [
    "print(fruitlist.sort(),fruitlist)\n",
    "new.pop()\n",
    "new"
   ]
  },
  {
   "cell_type": "code",
   "execution_count": 14,
   "id": "81402766",
   "metadata": {},
   "outputs": [
    {
     "data": {
      "text/plain": [
       "['banana', 'apple', 'banana', 'pear', 'apple']"
      ]
     },
     "execution_count": 14,
     "metadata": {},
     "output_type": "execute_result"
    }
   ],
   "source": [
    "new.remove('kiwi')\n",
    "new"
   ]
  },
  {
   "cell_type": "code",
   "execution_count": 15,
   "id": "67cd666e",
   "metadata": {},
   "outputs": [
    {
     "data": {
      "text/plain": [
       "'apple'"
      ]
     },
     "execution_count": 15,
     "metadata": {},
     "output_type": "execute_result"
    }
   ],
   "source": [
    "new.pop()"
   ]
  },
  {
   "cell_type": "code",
   "execution_count": 16,
   "id": "16f669cd",
   "metadata": {},
   "outputs": [
    {
     "data": {
      "text/plain": [
       "['banana', 'apple', 'banana', 'pear']"
      ]
     },
     "execution_count": 16,
     "metadata": {},
     "output_type": "execute_result"
    }
   ],
   "source": [
    "new"
   ]
  },
  {
   "cell_type": "code",
   "execution_count": 17,
   "id": "62508e46",
   "metadata": {},
   "outputs": [
    {
     "data": {
      "text/plain": [
       "[3, 4, 5, 6, 7]"
      ]
     },
     "execution_count": 17,
     "metadata": {},
     "output_type": "execute_result"
    }
   ],
   "source": [
    "stack=[3,4,5]\n",
    "stack.append(6)\n",
    "stack.append(7)\n",
    "stack"
   ]
  },
  {
   "cell_type": "code",
   "execution_count": 19,
   "id": "51366d91",
   "metadata": {},
   "outputs": [
    {
     "data": {
      "text/plain": [
       "[4, 5]"
      ]
     },
     "execution_count": 19,
     "metadata": {},
     "output_type": "execute_result"
    }
   ],
   "source": [
    "stack.pop()\n",
    "stack.pop()\n",
    "stack.pop(0)\n",
    "stack"
   ]
  },
  {
   "cell_type": "code",
   "execution_count": 25,
   "id": "5e586a54",
   "metadata": {},
   "outputs": [
    {
     "data": {
      "text/plain": [
       "deque(['Eric', 'Jhon', 'Michael'])"
      ]
     },
     "execution_count": 25,
     "metadata": {},
     "output_type": "execute_result"
    }
   ],
   "source": [
    "# to implement a queue,use collections.deque which was designed to have fast appends and pops from both ends. For Ex\n",
    "from collections import deque\n",
    "queue=deque(['Eric','Jhon','Michael'])\n",
    "queue"
   ]
  },
  {
   "cell_type": "code",
   "execution_count": 26,
   "id": "e458f261",
   "metadata": {},
   "outputs": [],
   "source": [
    "# adding Terry\n",
    "queue.append(\"Terry\")\n",
    "\n",
    "# adding Graham\n",
    "queue.append(\"Graham\")"
   ]
  },
  {
   "cell_type": "code",
   "execution_count": 27,
   "id": "a82831d3",
   "metadata": {},
   "outputs": [
    {
     "name": "stdout",
     "output_type": "stream",
     "text": [
      "Present Queue\n"
     ]
    },
    {
     "data": {
      "text/plain": [
       "deque(['Eric', 'Jhon', 'Michael', 'Terry', 'Graham'])"
      ]
     },
     "execution_count": 27,
     "metadata": {},
     "output_type": "execute_result"
    }
   ],
   "source": [
    "print(\"Present Queue\")\n",
    "\n",
    "# final list\n",
    "queue"
   ]
  },
  {
   "cell_type": "code",
   "execution_count": 28,
   "id": "3a3215e8",
   "metadata": {},
   "outputs": [
    {
     "name": "stdout",
     "output_type": "stream",
     "text": [
      "deque(['Jhon', 'Michael', 'Terry', 'Graham'])\n"
     ]
    }
   ],
   "source": [
    "# pop from left\n",
    "queue.popleft()\n",
    "print(queue)"
   ]
  },
  {
   "cell_type": "code",
   "execution_count": 29,
   "id": "e77c807b",
   "metadata": {},
   "outputs": [
    {
     "name": "stdout",
     "output_type": "stream",
     "text": [
      "deque(['Michael', 'Terry', 'Graham'])\n"
     ]
    }
   ],
   "source": [
    "#pop from right\n",
    "queue.popleft()\n",
    "\n",
    "#print\n",
    "print(queue)"
   ]
  },
  {
   "cell_type": "code",
   "execution_count": 30,
   "id": "76f9b58b",
   "metadata": {},
   "outputs": [
    {
     "name": "stdout",
     "output_type": "stream",
     "text": [
      "deque(['Michael', 'Terry'])\n"
     ]
    }
   ],
   "source": [
    "# pop from last\n",
    "queue.pop()\n",
    "print(queue)"
   ]
  },
  {
   "cell_type": "markdown",
   "id": "31051f7a",
   "metadata": {},
   "source": [
    "# List Comprehension"
   ]
  },
  {
   "cell_type": "code",
   "execution_count": 34,
   "id": "4a1aee2e",
   "metadata": {},
   "outputs": [
    {
     "name": "stdout",
     "output_type": "stream",
     "text": [
      "i = 0 and Square is [0]\n",
      "i = 1 and Square is [0, 1]\n",
      "i = 2 and Square is [0, 1, 4]\n",
      "i = 3 and Square is [0, 1, 4, 9]\n",
      "i = 4 and Square is [0, 1, 4, 9, 16]\n",
      "i = 5 and Square is [0, 1, 4, 9, 16, 25]\n",
      "i = 6 and Square is [0, 1, 4, 9, 16, 25, 36]\n",
      "i = 7 and Square is [0, 1, 4, 9, 16, 25, 36, 49]\n",
      "i = 8 and Square is [0, 1, 4, 9, 16, 25, 36, 49, 64]\n",
      "i = 9 and Square is [0, 1, 4, 9, 16, 25, 36, 49, 64, 81]\n",
      "\n",
      "Final List Out of the loop\n",
      " [0, 1, 4, 9, 16, 25, 36, 49, 64, 81]\n"
     ]
    }
   ],
   "source": [
    "squares=[]\n",
    "\n",
    "for i in range(10):\n",
    "    squares.append(i**2)\n",
    "    print('i =',i,\"and Square is\",squares)\n",
    "    \n",
    "print(\"\\nFinal List Out of the loop\\n\",squares)"
   ]
  },
  {
   "cell_type": "code",
   "execution_count": 35,
   "id": "009970a6",
   "metadata": {},
   "outputs": [],
   "source": [
    "square=list(map(lambda x:x**2,range(10)))"
   ]
  },
  {
   "cell_type": "code",
   "execution_count": 36,
   "id": "18f8ab24",
   "metadata": {},
   "outputs": [
    {
     "data": {
      "text/plain": [
       "[0, 1, 4, 9, 16, 25, 36, 49, 64, 81]"
      ]
     },
     "execution_count": 36,
     "metadata": {},
     "output_type": "execute_result"
    }
   ],
   "source": [
    "square"
   ]
  },
  {
   "cell_type": "code",
   "execution_count": 38,
   "id": "dcbe79e2",
   "metadata": {},
   "outputs": [
    {
     "data": {
      "text/plain": [
       "[(1, 3), (1, 4), (2, 3), (2, 1), (2, 4), (3, 1), (3, 4)]"
      ]
     },
     "execution_count": 38,
     "metadata": {},
     "output_type": "execute_result"
    }
   ],
   "source": [
    "[(x,y) for x in [1,2,3] for y in [3,1,4] if x!=y]"
   ]
  },
  {
   "cell_type": "code",
   "execution_count": 40,
   "id": "e3a52aa8",
   "metadata": {},
   "outputs": [],
   "source": [
    "combs=[]\n",
    "\n",
    "for x in [1,2,3]:\n",
    "    for y in [3,1,4]:\n",
    "        if x==y:\n",
    "            combs.append((x,y))"
   ]
  },
  {
   "cell_type": "code",
   "execution_count": 41,
   "id": "bb936ad1",
   "metadata": {},
   "outputs": [
    {
     "name": "stdout",
     "output_type": "stream",
     "text": [
      "[(1, 1), (3, 3)]\n"
     ]
    }
   ],
   "source": [
    "print(combs)"
   ]
  },
  {
   "cell_type": "code",
   "execution_count": 42,
   "id": "7fc3fbb1",
   "metadata": {},
   "outputs": [
    {
     "name": "stdout",
     "output_type": "stream",
     "text": [
      "[(1, 3), (1, 4), (2, 3), (2, 1), (2, 4), (3, 1), (3, 4)]\n"
     ]
    }
   ],
   "source": [
    "list1=[]\n",
    "for x in [1,2,3]:\n",
    "    for y in [3,1,4]:\n",
    "        if x!=y:\n",
    "            list1.append((x,y))\n",
    "print(list1) "
   ]
  },
  {
   "cell_type": "code",
   "execution_count": 43,
   "id": "ecc26c05",
   "metadata": {},
   "outputs": [
    {
     "data": {
      "text/plain": [
       "[16, 4, 0, 4, 16]"
      ]
     },
     "execution_count": 43,
     "metadata": {},
     "output_type": "execute_result"
    }
   ],
   "source": [
    "vec=[-4,-2,0,2,4]\n",
    "\n",
    "[x**2 for x in vec]"
   ]
  },
  {
   "cell_type": "code",
   "execution_count": 44,
   "id": "4711409d",
   "metadata": {},
   "outputs": [
    {
     "data": {
      "text/plain": [
       "[-8, -4, 0, 4, 8]"
      ]
     },
     "execution_count": 44,
     "metadata": {},
     "output_type": "execute_result"
    }
   ],
   "source": [
    "# filter double from data\n",
    "[x*2 for x in vec]"
   ]
  },
  {
   "cell_type": "code",
   "execution_count": 45,
   "id": "e397aa15",
   "metadata": {},
   "outputs": [
    {
     "data": {
      "text/plain": [
       "[0, 2, 4]"
      ]
     },
     "execution_count": 45,
     "metadata": {},
     "output_type": "execute_result"
    }
   ],
   "source": [
    "# apply a filter which is greater than 0 or equal to zero\n",
    "[x for x in vec if x>=0]"
   ]
  },
  {
   "cell_type": "code",
   "execution_count": 46,
   "id": "ee37e270",
   "metadata": {},
   "outputs": [
    {
     "data": {
      "text/plain": [
       "[4, 2, 0, 2, 4]"
      ]
     },
     "execution_count": 46,
     "metadata": {},
     "output_type": "execute_result"
    }
   ],
   "source": [
    "# absolute function will make all data positive\n",
    "\n",
    "[abs(x) for x in vec]"
   ]
  },
  {
   "cell_type": "code",
   "execution_count": 51,
   "id": "6a02661f",
   "metadata": {},
   "outputs": [
    {
     "name": "stdout",
     "output_type": "stream",
     "text": [
      "Fresh Fruit  ['banana ', ' loganberry', '   passion fruit']\n",
      "\n",
      "USING STRIP Function\n"
     ]
    },
    {
     "data": {
      "text/plain": [
       "['banana', 'loganberry', 'passion fruit']"
      ]
     },
     "execution_count": 51,
     "metadata": {},
     "output_type": "execute_result"
    }
   ],
   "source": [
    "# call a method on each element\n",
    "\n",
    "freshfruit=['banana ',' loganberry','   passion fruit']\n",
    "print(\"Fresh Fruit \",freshfruit)\n",
    "\n",
    "print(\"\\nUSING STRIP Function\")\n",
    "# will remove all blank spaces\n",
    "[i.strip() for i in freshfruit]"
   ]
  },
  {
   "cell_type": "code",
   "execution_count": 52,
   "id": "597d80fc",
   "metadata": {},
   "outputs": [
    {
     "data": {
      "text/plain": [
       "[(0, 0), (1, 1), (2, 4), (3, 9), (4, 16), (5, 25)]"
      ]
     },
     "execution_count": 52,
     "metadata": {},
     "output_type": "execute_result"
    }
   ],
   "source": [
    "# create a list of 2-tuple like (number,square)\n",
    "[(x,x**2) for x in range(6)]"
   ]
  },
  {
   "cell_type": "code",
   "execution_count": 54,
   "id": "e013c091",
   "metadata": {},
   "outputs": [
    {
     "ename": "SyntaxError",
     "evalue": "invalid syntax (1326065740.py, line 1)",
     "output_type": "error",
     "traceback": [
      "\u001b[1;36m  File \u001b[1;32m\"C:\\Users\\jitsa\\AppData\\Local\\Temp\\ipykernel_11272\\1326065740.py\"\u001b[1;36m, line \u001b[1;32m1\u001b[0m\n\u001b[1;33m    [x,x**2, for x in range(6)]\u001b[0m\n\u001b[1;37m             ^\u001b[0m\n\u001b[1;31mSyntaxError\u001b[0m\u001b[1;31m:\u001b[0m invalid syntax\n"
     ]
    }
   ],
   "source": [
    "# invalid as its not enclosed in tuple\n",
    "\n",
    "[x,x**2 for x in range(6)]"
   ]
  },
  {
   "cell_type": "code",
   "execution_count": 57,
   "id": "829f6518",
   "metadata": {},
   "outputs": [
    {
     "data": {
      "text/plain": [
       "[1, 2, 3, 4, 5, 6, 7, 8, 9]"
      ]
     },
     "execution_count": 57,
     "metadata": {},
     "output_type": "execute_result"
    }
   ],
   "source": [
    "vec=[[1,2,3],[4,5,6],[7,8,9]]\n",
    "[num for elem in vec for num in elem]"
   ]
  },
  {
   "cell_type": "code",
   "execution_count": 58,
   "id": "dad872d4",
   "metadata": {},
   "outputs": [
    {
     "data": {
      "text/plain": [
       "['3.1', '3.14', '3.142', '3.1416', '3.14159']"
      ]
     },
     "execution_count": 58,
     "metadata": {},
     "output_type": "execute_result"
    }
   ],
   "source": [
    "from math import pi\n",
    "\n",
    "# rounding of pie in one to six range\n",
    "[str(round(pi,i)) for i in range(1,6)]"
   ]
  },
  {
   "cell_type": "code",
   "execution_count": 59,
   "id": "5e848b22",
   "metadata": {},
   "outputs": [
    {
     "data": {
      "text/plain": [
       "[[1, 2, 3, 4], [5, 6, 7, 8], [9, 10, 11, 12]]"
      ]
     },
     "execution_count": 59,
     "metadata": {},
     "output_type": "execute_result"
    }
   ],
   "source": [
    "matrix=[[1,2,3,4],[5,6,7,8],[9,10,11,12]]\n",
    "matrix"
   ]
  },
  {
   "cell_type": "code",
   "execution_count": 60,
   "id": "f29c6f1e",
   "metadata": {},
   "outputs": [
    {
     "data": {
      "text/plain": [
       "[[1, 5, 9], [2, 6, 10], [3, 7, 11], [4, 8, 12]]"
      ]
     },
     "execution_count": 60,
     "metadata": {},
     "output_type": "execute_result"
    }
   ],
   "source": [
    "[[row[i] for row in matrix] for i in range(4)]"
   ]
  },
  {
   "cell_type": "code",
   "execution_count": 61,
   "id": "17572666",
   "metadata": {},
   "outputs": [
    {
     "data": {
      "text/plain": [
       "[[1, 5, 9], [2, 6, 10], [3, 7, 11], [4, 8, 12]]"
      ]
     },
     "execution_count": 61,
     "metadata": {},
     "output_type": "execute_result"
    }
   ],
   "source": [
    "transposed=[]\n",
    "for i in range(4):\n",
    "    transposed.append([row[i] for row in matrix])\n",
    "transposed"
   ]
  },
  {
   "cell_type": "code",
   "execution_count": 63,
   "id": "cc19d3c6",
   "metadata": {},
   "outputs": [
    {
     "data": {
      "text/plain": [
       "[(1, 5, 9), (2, 6, 10), (3, 7, 11), (4, 8, 12)]"
      ]
     },
     "execution_count": 63,
     "metadata": {},
     "output_type": "execute_result"
    }
   ],
   "source": [
    "list(zip(*matrix))"
   ]
  },
  {
   "cell_type": "markdown",
   "id": "183f9c8d",
   "metadata": {},
   "source": [
    "## The del statement "
   ]
  },
  {
   "cell_type": "code",
   "execution_count": 64,
   "id": "861c61bf",
   "metadata": {},
   "outputs": [
    {
     "data": {
      "text/plain": [
       "[1, 66.25, 333, 333, 1234.5]"
      ]
     },
     "execution_count": 64,
     "metadata": {},
     "output_type": "execute_result"
    }
   ],
   "source": [
    "a=[-1,1,66.25,333,333,1234.5]\n",
    "del a[0]\n",
    "a"
   ]
  },
  {
   "cell_type": "code",
   "execution_count": 66,
   "id": "54af33de",
   "metadata": {},
   "outputs": [
    {
     "name": "stdout",
     "output_type": "stream",
     "text": [
      "[1, 66.25, 1234.5]\n",
      "\n",
      "After Deleting\n",
      " [1, 66.25]\n"
     ]
    }
   ],
   "source": [
    "print(a)\n",
    "del a[2:4]\n",
    "print(\"\\nAfter Deleting\\n\",a)"
   ]
  },
  {
   "cell_type": "code",
   "execution_count": 67,
   "id": "cda89314",
   "metadata": {},
   "outputs": [],
   "source": [
    "# delete all contains inside\n",
    "del a[:]"
   ]
  },
  {
   "cell_type": "code",
   "execution_count": 68,
   "id": "310b4773",
   "metadata": {},
   "outputs": [
    {
     "data": {
      "text/plain": [
       "[]"
      ]
     },
     "execution_count": 68,
     "metadata": {},
     "output_type": "execute_result"
    }
   ],
   "source": [
    "# a shows empty\n",
    "a"
   ]
  },
  {
   "cell_type": "code",
   "execution_count": 69,
   "id": "58db2db0",
   "metadata": {},
   "outputs": [],
   "source": [
    "# deleted a list\n",
    "del a"
   ]
  },
  {
   "cell_type": "markdown",
   "id": "920696a7",
   "metadata": {},
   "source": [
    "# Tuples and Sequences"
   ]
  },
  {
   "cell_type": "code",
   "execution_count": 71,
   "id": "ba7b88d1",
   "metadata": {},
   "outputs": [
    {
     "data": {
      "text/plain": [
       "12345"
      ]
     },
     "execution_count": 71,
     "metadata": {},
     "output_type": "execute_result"
    }
   ],
   "source": [
    "t=12345,54321,'hello'\n",
    "t[0]"
   ]
  },
  {
   "cell_type": "code",
   "execution_count": 72,
   "id": "8872036e",
   "metadata": {},
   "outputs": [
    {
     "data": {
      "text/plain": [
       "(12345, 54321, 'hello')"
      ]
     },
     "execution_count": 72,
     "metadata": {},
     "output_type": "execute_result"
    }
   ],
   "source": [
    "t"
   ]
  },
  {
   "cell_type": "code",
   "execution_count": 73,
   "id": "59dda14e",
   "metadata": {},
   "outputs": [
    {
     "data": {
      "text/plain": [
       "((12345, 54321, 'hello'), (1, 2, 3, 4, 5))"
      ]
     },
     "execution_count": 73,
     "metadata": {},
     "output_type": "execute_result"
    }
   ],
   "source": [
    "u=t,(1,2,3,4,5)\n",
    "u"
   ]
  },
  {
   "cell_type": "code",
   "execution_count": 75,
   "id": "aff16459",
   "metadata": {},
   "outputs": [
    {
     "ename": "TypeError",
     "evalue": "'tuple' object does not support item assignment",
     "output_type": "error",
     "traceback": [
      "\u001b[1;31m---------------------------------------------------------------------------\u001b[0m",
      "\u001b[1;31mTypeError\u001b[0m                                 Traceback (most recent call last)",
      "\u001b[1;32m~\\AppData\\Local\\Temp\\ipykernel_11272\\2349036686.py\u001b[0m in \u001b[0;36m<module>\u001b[1;34m\u001b[0m\n\u001b[0;32m      1\u001b[0m \u001b[1;31m# tuples are immutable\u001b[0m\u001b[1;33m\u001b[0m\u001b[1;33m\u001b[0m\u001b[0m\n\u001b[1;32m----> 2\u001b[1;33m \u001b[0mt\u001b[0m\u001b[1;33m[\u001b[0m\u001b[1;36m0\u001b[0m\u001b[1;33m]\u001b[0m\u001b[1;33m=\u001b[0m\u001b[1;36m8888\u001b[0m\u001b[1;33m\u001b[0m\u001b[1;33m\u001b[0m\u001b[0m\n\u001b[0m",
      "\u001b[1;31mTypeError\u001b[0m: 'tuple' object does not support item assignment"
     ]
    }
   ],
   "source": [
    "# tuples are immutable\n",
    "t[0]=8888"
   ]
  },
  {
   "cell_type": "code",
   "execution_count": 76,
   "id": "6966f64c",
   "metadata": {},
   "outputs": [
    {
     "data": {
      "text/plain": [
       "([1, 2, 3], [3, 2, 1])"
      ]
     },
     "execution_count": 76,
     "metadata": {},
     "output_type": "execute_result"
    }
   ],
   "source": [
    "v=([1,2,3],[3,2,1])\n",
    "v"
   ]
  },
  {
   "cell_type": "code",
   "execution_count": 78,
   "id": "1dc12f05",
   "metadata": {},
   "outputs": [
    {
     "data": {
      "text/plain": [
       "0"
      ]
     },
     "execution_count": 78,
     "metadata": {},
     "output_type": "execute_result"
    }
   ],
   "source": [
    "empty=()\n",
    "singleton='hello',\n",
    "len(empty)"
   ]
  },
  {
   "cell_type": "code",
   "execution_count": 79,
   "id": "3214b9a6",
   "metadata": {},
   "outputs": [
    {
     "data": {
      "text/plain": [
       "1"
      ]
     },
     "execution_count": 79,
     "metadata": {},
     "output_type": "execute_result"
    }
   ],
   "source": [
    "len(singleton) # note: due to coma this shows one\n"
   ]
  },
  {
   "cell_type": "code",
   "execution_count": 80,
   "id": "d2fbfd1c",
   "metadata": {},
   "outputs": [
    {
     "data": {
      "text/plain": [
       "('hello',)"
      ]
     },
     "execution_count": 80,
     "metadata": {},
     "output_type": "execute_result"
    }
   ],
   "source": [
    "singleton"
   ]
  },
  {
   "cell_type": "code",
   "execution_count": 81,
   "id": "835524ec",
   "metadata": {},
   "outputs": [
    {
     "data": {
      "text/plain": [
       "5"
      ]
     },
     "execution_count": 81,
     "metadata": {},
     "output_type": "execute_result"
    }
   ],
   "source": [
    "singleton2='hello'\n",
    "len(singleton2)"
   ]
  },
  {
   "cell_type": "markdown",
   "id": "c8838238",
   "metadata": {},
   "source": [
    "# Sets\n",
    "\n",
    "- Unordered collection  with no duplicate elements.\n",
    "- curly braces or set() is used to create set\n",
    "- create empty set use set()\n"
   ]
  },
  {
   "cell_type": "code",
   "execution_count": 82,
   "id": "508e7753",
   "metadata": {},
   "outputs": [
    {
     "name": "stdout",
     "output_type": "stream",
     "text": [
      "{'orange', 'banana', 'apple', 'pear'}\n"
     ]
    }
   ],
   "source": [
    "basket={'apple','orange','apple','pear','orange','banana'}\n",
    "\n",
    "# sets allows no duplicated values\n",
    "\n",
    "print(basket)"
   ]
  },
  {
   "cell_type": "code",
   "execution_count": 83,
   "id": "a61b7a0b",
   "metadata": {},
   "outputs": [
    {
     "data": {
      "text/plain": [
       "True"
      ]
     },
     "execution_count": 83,
     "metadata": {},
     "output_type": "execute_result"
    }
   ],
   "source": [
    "# fast membership testing\n",
    "'orange' in basket"
   ]
  },
  {
   "cell_type": "code",
   "execution_count": 84,
   "id": "cd0da47e",
   "metadata": {},
   "outputs": [
    {
     "data": {
      "text/plain": [
       "False"
      ]
     },
     "execution_count": 84,
     "metadata": {},
     "output_type": "execute_result"
    }
   ],
   "source": [
    "'crab' in basket"
   ]
  },
  {
   "cell_type": "code",
   "execution_count": 86,
   "id": "424e8875",
   "metadata": {},
   "outputs": [
    {
     "name": "stdout",
     "output_type": "stream",
     "text": [
      "OUtput shows only unique values\n",
      "{'d', 'g', 'c', 'e', 'k', 'f', 'b', 's', 'a'}\n",
      "{'l', 'c', 'z', 'm', 'a'}\n"
     ]
    }
   ],
   "source": [
    "a=set('abcdfegskab')\n",
    "b=set('alacazam')\n",
    "\n",
    "print(\"OUtput shows only unique values\")\n",
    "print(a)\n",
    "print(b)"
   ]
  },
  {
   "cell_type": "code",
   "execution_count": 87,
   "id": "a8714325",
   "metadata": {},
   "outputs": [
    {
     "data": {
      "text/plain": [
       "{'b', 'd', 'e', 'f', 'g', 'k', 's'}"
      ]
     },
     "execution_count": 87,
     "metadata": {},
     "output_type": "execute_result"
    }
   ],
   "source": [
    "# common words gets discarded.\n",
    "a-b"
   ]
  },
  {
   "cell_type": "code",
   "execution_count": 88,
   "id": "d5f42be3",
   "metadata": {},
   "outputs": [
    {
     "data": {
      "text/plain": [
       "{'a', 'c'}"
      ]
     },
     "execution_count": 88,
     "metadata": {},
     "output_type": "execute_result"
    }
   ],
   "source": [
    "# letters that are common in a and b\n",
    "\n",
    "a&b"
   ]
  },
  {
   "cell_type": "code",
   "execution_count": 90,
   "id": "feca06c4",
   "metadata": {},
   "outputs": [
    {
     "data": {
      "text/plain": [
       "{'a', 'b', 'c', 'd', 'e', 'f', 'g', 'k', 'l', 'm', 's', 'z'}"
      ]
     },
     "execution_count": 90,
     "metadata": {},
     "output_type": "execute_result"
    }
   ],
   "source": [
    "# letters that i a or b or both\n",
    "a|b"
   ]
  },
  {
   "cell_type": "code",
   "execution_count": 91,
   "id": "b4b538c5",
   "metadata": {},
   "outputs": [
    {
     "data": {
      "text/plain": [
       "{'b', 'd', 'e', 'f', 'g', 'k', 'l', 'm', 's', 'z'}"
      ]
     },
     "execution_count": 91,
     "metadata": {},
     "output_type": "execute_result"
    }
   ],
   "source": [
    "# letters that are in a or b but not same\n",
    "a^b"
   ]
  },
  {
   "cell_type": "code",
   "execution_count": 92,
   "id": "9b825919",
   "metadata": {},
   "outputs": [
    {
     "data": {
      "text/plain": [
       "{'d', 'r'}"
      ]
     },
     "execution_count": 92,
     "metadata": {},
     "output_type": "execute_result"
    }
   ],
   "source": [
    "a={x for x in'abracadabra' if x not in 'abc'}\n",
    "a"
   ]
  },
  {
   "cell_type": "markdown",
   "id": "d413461f",
   "metadata": {},
   "source": [
    "# Dictionary\n",
    "\n",
    "- key and values pair\n",
    "- curly bracket\n",
    "- mutable\n",
    "- comma seperated with key and values\n",
    "- empty dictionary={}\n"
   ]
  },
  {
   "cell_type": "code",
   "execution_count": 93,
   "id": "9db8a3d3",
   "metadata": {},
   "outputs": [
    {
     "data": {
      "text/plain": [
       "{'Jack': 4098, 'shape': 4139, 'guido': 2190}"
      ]
     },
     "execution_count": 93,
     "metadata": {},
     "output_type": "execute_result"
    }
   ],
   "source": [
    "tel={'Jack':4098,'shape':4139}\n",
    "\n",
    "# adding new key with values\n",
    "tel['guido']=2190\n",
    "print(tel)"
   ]
  },
  {
   "cell_type": "code",
   "execution_count": 94,
   "id": "aa8177d8",
   "metadata": {},
   "outputs": [
    {
     "name": "stdout",
     "output_type": "stream",
     "text": [
      "{'Jack': 4098, 'guido': 2190, 'ivr': 4127}\n"
     ]
    }
   ],
   "source": [
    "# delete key with value\n",
    "del tel['shape']\n",
    "\n",
    "# adding new\n",
    "tel['ivr']=4127\n",
    "print(tel)"
   ]
  },
  {
   "cell_type": "code",
   "execution_count": 95,
   "id": "5ab79495",
   "metadata": {},
   "outputs": [
    {
     "data": {
      "text/plain": [
       "list[{'Jack': 4098, 'guido': 2190, 'ivr': 4127}]"
      ]
     },
     "execution_count": 95,
     "metadata": {},
     "output_type": "execute_result"
    }
   ],
   "source": [
    "list[tel]"
   ]
  },
  {
   "cell_type": "code",
   "execution_count": 96,
   "id": "4da3493d",
   "metadata": {},
   "outputs": [
    {
     "data": {
      "text/plain": [
       "['Jack', 'guido', 'ivr']"
      ]
     },
     "execution_count": 96,
     "metadata": {},
     "output_type": "execute_result"
    }
   ],
   "source": [
    "list(tel)"
   ]
  },
  {
   "cell_type": "code",
   "execution_count": 97,
   "id": "3bf4d44a",
   "metadata": {},
   "outputs": [
    {
     "data": {
      "text/plain": [
       "True"
      ]
     },
     "execution_count": 97,
     "metadata": {},
     "output_type": "execute_result"
    }
   ],
   "source": [
    "'guido' in tel"
   ]
  },
  {
   "cell_type": "code",
   "execution_count": 98,
   "id": "2a2a9400",
   "metadata": {},
   "outputs": [
    {
     "data": {
      "text/plain": [
       "False"
      ]
     },
     "execution_count": 98,
     "metadata": {},
     "output_type": "execute_result"
    }
   ],
   "source": [
    "'jack' in tel"
   ]
  },
  {
   "cell_type": "code",
   "execution_count": 101,
   "id": "b510f465",
   "metadata": {},
   "outputs": [
    {
     "data": {
      "text/plain": [
       "{'sahape': 4139, 'guido': 4127, 'jack': 4098}"
      ]
     },
     "execution_count": 101,
     "metadata": {},
     "output_type": "execute_result"
    }
   ],
   "source": [
    "#  making dict using dict() constructor\n",
    "\n",
    "dict([('sahape',4139),('guido',4127),('jack',4098)])"
   ]
  },
  {
   "cell_type": "code",
   "execution_count": 104,
   "id": "af942fdd",
   "metadata": {},
   "outputs": [
    {
     "data": {
      "text/plain": [
       "{2: 4, 4: 16, 6: 36}"
      ]
     },
     "execution_count": 104,
     "metadata": {},
     "output_type": "execute_result"
    }
   ],
   "source": [
    "{x:x**2 for x in (2,4,6)}"
   ]
  },
  {
   "cell_type": "code",
   "execution_count": 105,
   "id": "01238a61",
   "metadata": {},
   "outputs": [
    {
     "data": {
      "text/plain": [
       "{'sape': 4139, 'guido': 4127, 'jack': 4098}"
      ]
     },
     "execution_count": 105,
     "metadata": {},
     "output_type": "execute_result"
    }
   ],
   "source": [
    "dict(sape=4139,guido=4127,jack=4098)"
   ]
  },
  {
   "cell_type": "code",
   "execution_count": 1,
   "id": "f8633939",
   "metadata": {},
   "outputs": [
    {
     "name": "stdout",
     "output_type": "stream",
     "text": [
      "10\n",
      "20\n",
      "End of loop\n"
     ]
    }
   ],
   "source": [
    "for k in [10,20,30,40,50,60,70,80]:\n",
    "    if k==30:\n",
    "        break\n",
    "    print(k)\n",
    "print(\"End of loop\")"
   ]
  },
  {
   "cell_type": "code",
   "execution_count": null,
   "id": "f1326f4a",
   "metadata": {},
   "outputs": [],
   "source": []
  }
 ],
 "metadata": {
  "kernelspec": {
   "display_name": "Python 3 (ipykernel)",
   "language": "python",
   "name": "python3"
  },
  "language_info": {
   "codemirror_mode": {
    "name": "ipython",
    "version": 3
   },
   "file_extension": ".py",
   "mimetype": "text/x-python",
   "name": "python",
   "nbconvert_exporter": "python",
   "pygments_lexer": "ipython3",
   "version": "3.9.13"
  }
 },
 "nbformat": 4,
 "nbformat_minor": 5
}
