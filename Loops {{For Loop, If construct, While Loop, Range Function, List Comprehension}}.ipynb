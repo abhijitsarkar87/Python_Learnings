{
 "cells": [
  {
   "cell_type": "markdown",
   "id": "c748fa98",
   "metadata": {},
   "source": [
    "# While Loop\n",
    "\n",
    "\n",
    "- intialization\n",
    "- condition\n",
    "- increment"
   ]
  },
  {
   "cell_type": "code",
   "execution_count": 6,
   "id": "4ec5ca2b",
   "metadata": {},
   "outputs": [
    {
     "name": "stdout",
     "output_type": "stream",
     "text": [
      "0 1 2 3 4 "
     ]
    }
   ],
   "source": [
    "# initialization\n",
    "i=0\n",
    "\n",
    "# condition\n",
    "while (i<5): # loop running will check if 5 is less than 5\n",
    "    print(i,end=\" \")\n",
    "    \n",
    "    i=i+1 # increment"
   ]
  },
  {
   "cell_type": "code",
   "execution_count": 7,
   "id": "4bd0aadb",
   "metadata": {},
   "outputs": [
    {
     "name": "stdout",
     "output_type": "stream",
     "text": [
      "0,1,2,"
     ]
    }
   ],
   "source": [
    "# initialization\n",
    "i=0\n",
    "\n",
    "# condition\n",
    "while(i<3): #check if i is less then 3\n",
    "    print(i,end=',')\n",
    "    \n",
    "    # increment\n",
    "    i=i+1\n"
   ]
  },
  {
   "cell_type": "code",
   "execution_count": 8,
   "id": "7f0f6790",
   "metadata": {},
   "outputs": [
    {
     "name": "stdout",
     "output_type": "stream",
     "text": [
      "0 ,1 ,2 ,3 ,4 ,"
     ]
    }
   ],
   "source": [
    "# initialization\n",
    "\n",
    "i=0\n",
    "\n",
    "# condition\n",
    "while(i<5): # check if i is than 5\n",
    "    print(i,end=\" ,\")\n",
    "    \n",
    "    # increment\n",
    "    i=i+1"
   ]
  },
  {
   "cell_type": "code",
   "execution_count": 9,
   "id": "31b0121c",
   "metadata": {},
   "outputs": [
    {
     "name": "stdout",
     "output_type": "stream",
     "text": [
      "0,1,2,3,4,5,6,"
     ]
    }
   ],
   "source": [
    "# initialization\n",
    "i=0\n",
    "\n",
    "#condition\n",
    "while(i<7): # check if is less than 7\n",
    "    print(i,end=\",\")\n",
    "    \n",
    "    #increment\n",
    "    i=i+1"
   ]
  },
  {
   "cell_type": "code",
   "execution_count": 10,
   "id": "2df66557",
   "metadata": {},
   "outputs": [
    {
     "name": "stdout",
     "output_type": "stream",
     "text": [
      "0\t1\t2\t3\t4\t5\t6\t"
     ]
    }
   ],
   "source": [
    "# initialization\n",
    "k=0\n",
    "\n",
    "#condition \n",
    "while(k<7):\n",
    "    print(k,end=\"\\t\")\n",
    "    \n",
    "    #increment\n",
    "    k=k+1\n",
    "    "
   ]
  },
  {
   "cell_type": "code",
   "execution_count": 11,
   "id": "f897a495",
   "metadata": {},
   "outputs": [
    {
     "name": "stdout",
     "output_type": "stream",
     "text": [
      "0 1 2 3 4 5 6 "
     ]
    }
   ],
   "source": [
    "# increment\n",
    "\n",
    "p=0\n",
    "\n",
    "#condition\n",
    "while(p<7):\n",
    "    print(p,end=\" \")\n",
    "    \n",
    "    #increment\n",
    "    \n",
    "    p=p+1"
   ]
  },
  {
   "cell_type": "code",
   "execution_count": 13,
   "id": "7edbd79d",
   "metadata": {},
   "outputs": [
    {
     "name": "stdout",
     "output_type": "stream",
     "text": [
      "0 1 2 3 4 5 6 7 "
     ]
    }
   ],
   "source": [
    "# increment\n",
    "k=0\n",
    "\n",
    "# condition \n",
    "while(k<8): # check if k is less than 8\n",
    "    print(k,end=\" \")\n",
    "    \n",
    "    #increment\n",
    "    \n",
    "    k=k+1"
   ]
  },
  {
   "cell_type": "code",
   "execution_count": 14,
   "id": "c51a046b",
   "metadata": {},
   "outputs": [
    {
     "name": "stdout",
     "output_type": "stream",
     "text": [
      "m = 0\n",
      "m = 1\n",
      "m = 2\n",
      "m = 3\n",
      "m = 4\n",
      "m = 5\n"
     ]
    }
   ],
   "source": [
    "# increment\n",
    "m=0\n",
    "\n",
    "# condition\n",
    "while(m<6): # check m is less than 6\n",
    "    print(\"m =\",m)\n",
    "    \n",
    "    # increment\n",
    "    \n",
    "    m=m+1"
   ]
  },
  {
   "cell_type": "code",
   "execution_count": 15,
   "id": "9d2c8c12",
   "metadata": {},
   "outputs": [
    {
     "name": "stdout",
     "output_type": "stream",
     "text": [
      "0 2 4 6 8 "
     ]
    }
   ],
   "source": [
    "d=0 #initialization\n",
    "\n",
    "# condition\n",
    "\n",
    "while (d<9): # check d is less than 9\n",
    "    print(d,end=\" \")\n",
    "    \n",
    "    # increment\n",
    "    d=d+2\n"
   ]
  },
  {
   "cell_type": "code",
   "execution_count": 17,
   "id": "3c373d25",
   "metadata": {},
   "outputs": [
    {
     "name": "stdout",
     "output_type": "stream",
     "text": [
      "9\t18\t27\t36\t45\t54\t63\t72\t81\t90\t"
     ]
    }
   ],
   "source": [
    "f=9 # initialiation\n",
    "\n",
    "# condition\n",
    "while(f<91): # check for f is less than 91\n",
    "    print(f,end=\"\\t\")\n",
    "    \n",
    "    #increment\n",
    "    f=f+9"
   ]
  },
  {
   "cell_type": "code",
   "execution_count": 18,
   "id": "b81d87df",
   "metadata": {},
   "outputs": [
    {
     "name": "stdout",
     "output_type": "stream",
     "text": [
      "0 5 10 15 20 25 30 35 40 45 50 55 60 65 70 75 80 85 90 95 "
     ]
    }
   ],
   "source": [
    "i=0 # initialization\n",
    "\n",
    "# condition\n",
    "while(i<100): # check for i is less than 100\n",
    "    print(i,end=\" \")\n",
    "    \n",
    "    i=i+5"
   ]
  },
  {
   "cell_type": "markdown",
   "id": "703cb9b1",
   "metadata": {},
   "source": [
    "# For Loop"
   ]
  },
  {
   "cell_type": "code",
   "execution_count": 22,
   "id": "eb12f2d8",
   "metadata": {},
   "outputs": [
    {
     "name": "stdout",
     "output_type": "stream",
     "text": [
      "10 20 30 40 50 60 70 80 90 "
     ]
    }
   ],
   "source": [
    "for index in range(10,100,10):\n",
    "    print(index,end=\" \")"
   ]
  },
  {
   "cell_type": "code",
   "execution_count": 21,
   "id": "9003ce08",
   "metadata": {},
   "outputs": [
    {
     "name": "stdout",
     "output_type": "stream",
     "text": [
      "100\n",
      "200\n",
      "300\n",
      "400\n",
      "End\n"
     ]
    }
   ],
   "source": [
    "for index in [100,200,300,400,'End']:\n",
    "    print(index)"
   ]
  },
  {
   "cell_type": "code",
   "execution_count": 25,
   "id": "9e50c007",
   "metadata": {},
   "outputs": [
    {
     "name": "stdout",
     "output_type": "stream",
     "text": [
      "11 12 13 14 15 16 17 18 19 End\n"
     ]
    }
   ],
   "source": [
    "# calling all the index one by one\n",
    "for index in range(11,20):\n",
    "    print(index,end=\" \")\n",
    "    \n",
    "print(\"End\")"
   ]
  },
  {
   "cell_type": "code",
   "execution_count": 28,
   "id": "4e97cc68",
   "metadata": {},
   "outputs": [
    {
     "name": "stdout",
     "output_type": "stream",
     "text": [
      "hello\tworld\tI\tam\tBack\tEnd\n"
     ]
    }
   ],
   "source": [
    "# calling index\n",
    "\n",
    "for i in ['hello','world','I', 'am','Back']:\n",
    "    print(i,end=\"\\t\")\n",
    "print(\"End\")"
   ]
  },
  {
   "cell_type": "code",
   "execution_count": 30,
   "id": "8abf296d",
   "metadata": {},
   "outputs": [
    {
     "name": "stdout",
     "output_type": "stream",
     "text": [
      "100.2 104.4 103.7 101 107.4 'End'\n"
     ]
    }
   ],
   "source": [
    "for index in [100.2,104.4,103.7,101,107.4]:\n",
    "    print(index,end=\" \")\n",
    "print(\"'End'\")"
   ]
  },
  {
   "cell_type": "code",
   "execution_count": 36,
   "id": "8e14f92a",
   "metadata": {},
   "outputs": [
    {
     "name": "stdout",
     "output_type": "stream",
     "text": [
      "[]\n",
      "['Earth', 'Mercury', 'Venus', 'Jupiter', 'Saturn', 'Neptune', 'Pluto']\n",
      "\"End\"\n"
     ]
    }
   ],
   "source": [
    "# making list\n",
    "plannet_list=['Earth','Mercury','Venus','Jupiter','Saturn','Neptune','Pluto']\n",
    "# making blank list\n",
    "newplanet=[]\n",
    "#checking empty list\n",
    "print(newplanet)\n",
    "\n",
    "# loop index \n",
    "for index in plannet_list:\n",
    "    newplanet.append(index) # append those to empty list\n",
    "    \n",
    "\n",
    "print(newplanet)    # print newplanet list\n",
    "print(\"\\\"End\\\"\")"
   ]
  },
  {
   "cell_type": "code",
   "execution_count": 39,
   "id": "3134a604",
   "metadata": {},
   "outputs": [],
   "source": [
    "dict1=dict(zip(plannet_list,newplanet))\n",
    "list1=list(zip(plannet_list,newplanet))"
   ]
  },
  {
   "cell_type": "code",
   "execution_count": 46,
   "id": "66a38926",
   "metadata": {},
   "outputs": [
    {
     "name": "stdout",
     "output_type": "stream",
     "text": [
      "apple Mango 78 89 99.0 True "
     ]
    }
   ],
   "source": [
    "for k in ['apple','Mango',78,89,99.0,'True']:\n",
    "    print(k,end=\" \")"
   ]
  },
  {
   "cell_type": "code",
   "execution_count": 47,
   "id": "0c38601a",
   "metadata": {},
   "outputs": [
    {
     "name": "stdout",
     "output_type": "stream",
     "text": [
      "0 1 2 3 4 5 6 7 8 9 "
     ]
    }
   ],
   "source": [
    "for j in range(0,10):\n",
    "    print(j,end=\" \")\n",
    "    "
   ]
  },
  {
   "cell_type": "markdown",
   "id": "64a4ac8c",
   "metadata": {},
   "source": [
    "## Range Function"
   ]
  },
  {
   "cell_type": "code",
   "execution_count": 48,
   "id": "6c966d3a",
   "metadata": {},
   "outputs": [
    {
     "data": {
      "text/plain": [
       "range(0, 5)"
      ]
     },
     "execution_count": 48,
     "metadata": {},
     "output_type": "execute_result"
    }
   ],
   "source": [
    "range(5)"
   ]
  },
  {
   "cell_type": "code",
   "execution_count": 49,
   "id": "6e011a1a",
   "metadata": {},
   "outputs": [
    {
     "data": {
      "text/plain": [
       "range(8, 90)"
      ]
     },
     "execution_count": 49,
     "metadata": {},
     "output_type": "execute_result"
    }
   ],
   "source": [
    "range(8,90)"
   ]
  },
  {
   "cell_type": "code",
   "execution_count": 50,
   "id": "772481a7",
   "metadata": {},
   "outputs": [
    {
     "data": {
      "text/plain": [
       "range(0, 15)"
      ]
     },
     "execution_count": 50,
     "metadata": {},
     "output_type": "execute_result"
    }
   ],
   "source": [
    "range(15)"
   ]
  },
  {
   "cell_type": "code",
   "execution_count": 51,
   "id": "5a05c900",
   "metadata": {},
   "outputs": [
    {
     "data": {
      "text/plain": [
       "[0, 1, 2, 3, 4]"
      ]
     },
     "execution_count": 51,
     "metadata": {},
     "output_type": "execute_result"
    }
   ],
   "source": [
    "list(range(5))"
   ]
  },
  {
   "cell_type": "code",
   "execution_count": 52,
   "id": "a6c7c4f7",
   "metadata": {},
   "outputs": [
    {
     "data": {
      "text/plain": [
       "[1, 11, 21, 31, 41, 51, 61, 71, 81, 91]"
      ]
     },
     "execution_count": 52,
     "metadata": {},
     "output_type": "execute_result"
    }
   ],
   "source": [
    "list(range(1,100,10))"
   ]
  },
  {
   "cell_type": "code",
   "execution_count": 53,
   "id": "d7f27377",
   "metadata": {},
   "outputs": [
    {
     "data": {
      "text/plain": [
       "[10, 20, 30, 40]"
      ]
     },
     "execution_count": 53,
     "metadata": {},
     "output_type": "execute_result"
    }
   ],
   "source": [
    "list(range(10,50,10))"
   ]
  },
  {
   "cell_type": "code",
   "execution_count": 54,
   "id": "7d86eef4",
   "metadata": {},
   "outputs": [
    {
     "data": {
      "text/plain": [
       "[20, 30, 40, 50, 60, 70]"
      ]
     },
     "execution_count": 54,
     "metadata": {},
     "output_type": "execute_result"
    }
   ],
   "source": [
    "list(range(20,80,10))"
   ]
  },
  {
   "cell_type": "code",
   "execution_count": 55,
   "id": "d111809e",
   "metadata": {},
   "outputs": [
    {
     "data": {
      "text/plain": [
       "[0, 1, 2, 3, 4, 5, 6, 7, 8, 9]"
      ]
     },
     "execution_count": 55,
     "metadata": {},
     "output_type": "execute_result"
    }
   ],
   "source": [
    "list(range(10))"
   ]
  },
  {
   "cell_type": "code",
   "execution_count": 56,
   "id": "c9b30af9",
   "metadata": {},
   "outputs": [
    {
     "data": {
      "text/plain": [
       "[100, 105, 110, 115, 120, 125, 130, 135, 140]"
      ]
     },
     "execution_count": 56,
     "metadata": {},
     "output_type": "execute_result"
    }
   ],
   "source": [
    "list(range(100,145,5))"
   ]
  },
  {
   "cell_type": "code",
   "execution_count": 58,
   "id": "634abada",
   "metadata": {},
   "outputs": [
    {
     "name": "stdout",
     "output_type": "stream",
     "text": [
      "100 105 110 115 120 125 130 135 140 End\n"
     ]
    }
   ],
   "source": [
    "for index in list(range(100,145,5)):\n",
    "    print(index,end=\" \")\n",
    "print(\"End\")"
   ]
  },
  {
   "cell_type": "code",
   "execution_count": 59,
   "id": "d7399837",
   "metadata": {},
   "outputs": [
    {
     "name": "stdout",
     "output_type": "stream",
     "text": [
      "20 22 24 26 28 30 32 34 36 38 End\n"
     ]
    }
   ],
   "source": [
    "for index in list(range(20,40,2)):\n",
    "    print(index,end=\" \")\n",
    "print(\"End\")"
   ]
  },
  {
   "cell_type": "code",
   "execution_count": 60,
   "id": "b9de0afa",
   "metadata": {},
   "outputs": [
    {
     "name": "stdout",
     "output_type": "stream",
     "text": [
      "0\n",
      "2\n",
      "4\n",
      "6\n",
      "8\n",
      "End\n"
     ]
    }
   ],
   "source": [
    "for index in range(0,10,2):\n",
    "    print(index)\n",
    "print(\"End\")"
   ]
  },
  {
   "cell_type": "code",
   "execution_count": 61,
   "id": "ac30b208",
   "metadata": {},
   "outputs": [
    {
     "data": {
      "text/plain": [
       "[0, 2, 4, 6, 8, 10, 12, 14, 16, 18, 20]"
      ]
     },
     "execution_count": 61,
     "metadata": {},
     "output_type": "execute_result"
    }
   ],
   "source": [
    "list(range(0,21,2))"
   ]
  },
  {
   "cell_type": "code",
   "execution_count": 62,
   "id": "4f5d25f3",
   "metadata": {},
   "outputs": [
    {
     "data": {
      "text/plain": [
       "[0, 2, 4, 6, 8, 10, 12, 14, 16, 18]"
      ]
     },
     "execution_count": 62,
     "metadata": {},
     "output_type": "execute_result"
    }
   ],
   "source": [
    "list(range(0,20,2))"
   ]
  },
  {
   "cell_type": "markdown",
   "id": "44a5afd2",
   "metadata": {},
   "source": [
    "# If construct"
   ]
  },
  {
   "cell_type": "code",
   "execution_count": 1,
   "id": "cdea77e0",
   "metadata": {},
   "outputs": [
    {
     "name": "stdout",
     "output_type": "stream",
     "text": [
      "Marks is Less than 90 and more than 60\n"
     ]
    }
   ],
   "source": [
    "# Green is Keyword\n",
    "marks=60\n",
    "\n",
    "if marks<90: # checking marks marks less than 90\n",
    "    print(\"Marks is Less than 90 and more than 60\")\n",
    "else:\n",
    "    print(\"Marks is less than 60\")"
   ]
  },
  {
   "cell_type": "code",
   "execution_count": 2,
   "id": "197b13f2",
   "metadata": {},
   "outputs": [
    {
     "name": "stdout",
     "output_type": "stream",
     "text": [
      "Marks is less than 90\n"
     ]
    }
   ],
   "source": [
    "if marks>90: #checking if marks is greater than 90\n",
    "    print(\"Marks is Greater than 90\")\n",
    "else:\n",
    "    print(\"Marks is less than 90\")"
   ]
  },
  {
   "cell_type": "code",
   "execution_count": 3,
   "id": "748078c8",
   "metadata": {},
   "outputs": [
    {
     "name": "stdout",
     "output_type": "stream",
     "text": [
      "Fail\n"
     ]
    }
   ],
   "source": [
    "marks=20\n",
    "\n",
    "if marks>50: # if marks greater than 50\n",
    "    print(\"pass\")\n",
    "else:\n",
    "    print(\"Fail\")"
   ]
  },
  {
   "cell_type": "code",
   "execution_count": 4,
   "id": "60050099",
   "metadata": {},
   "outputs": [
    {
     "name": "stdout",
     "output_type": "stream",
     "text": [
      "X is greater than 100\n"
     ]
    }
   ],
   "source": [
    "x=150\n",
    "\n",
    "if x>100: #if x is greater than 100\n",
    "    print(\"X is greater than 100\")\n",
    "else:\n",
    "    print(\"X is less than 100\")"
   ]
  },
  {
   "cell_type": "code",
   "execution_count": 5,
   "id": "4c566724",
   "metadata": {},
   "outputs": [
    {
     "name": "stdout",
     "output_type": "stream",
     "text": [
      "The number is Even\n"
     ]
    }
   ],
   "source": [
    "x=10\n",
    "\n",
    "if x%2==0: # if the remainder is zero than its even\n",
    "    \n",
    "    print(\"The number is Even\")\n",
    "else:\n",
    "    print(\"The number is Odd\")"
   ]
  },
  {
   "cell_type": "code",
   "execution_count": 6,
   "id": "6e2f53d2",
   "metadata": {},
   "outputs": [
    {
     "name": "stdout",
     "output_type": "stream",
     "text": [
      "even\n"
     ]
    }
   ],
   "source": [
    "x=20\n",
    "\n",
    "if x%2==0: #check if remainder is zero\n",
    "    print(\"even\")\n",
    "else:\n",
    "    print(\"Odd\")\n",
    "    \n",
    "    "
   ]
  },
  {
   "cell_type": "code",
   "execution_count": 7,
   "id": "445d928f",
   "metadata": {},
   "outputs": [
    {
     "name": "stdout",
     "output_type": "stream",
     "text": [
      "Odd\n"
     ]
    }
   ],
   "source": [
    "x=11\n",
    "\n",
    "if x%2==0: # check if remainder is zero\n",
    "    print(\"Even\")\n",
    "else:\n",
    "    print(\"Odd\")"
   ]
  },
  {
   "cell_type": "code",
   "execution_count": 2,
   "id": "8e006b8d",
   "metadata": {},
   "outputs": [
    {
     "name": "stdout",
     "output_type": "stream",
     "text": [
      "20 are Even\n"
     ]
    }
   ],
   "source": [
    "y=20\n",
    "\n",
    "if y%2==0:\n",
    "    print(\"{} are Even\".format(y))\n",
    "else:\n",
    "    print(\"{} are Odd \".format(y))"
   ]
  },
  {
   "cell_type": "code",
   "execution_count": 5,
   "id": "fdb6eb11",
   "metadata": {},
   "outputs": [
    {
     "name": "stdout",
     "output_type": "stream",
     "text": [
      "0 1 2 3 4 "
     ]
    }
   ],
   "source": [
    "for index in range(0,5):\n",
    "    print(index,end=\" \")"
   ]
  },
  {
   "cell_type": "code",
   "execution_count": 6,
   "id": "6e608207",
   "metadata": {},
   "outputs": [
    {
     "name": "stdout",
     "output_type": "stream",
     "text": [
      "0\t1\t2\t3\t4\t5\t6\t7\t"
     ]
    }
   ],
   "source": [
    "for index in range(0,8):\n",
    "    print(index,end=\"\\t\")"
   ]
  },
  {
   "cell_type": "code",
   "execution_count": 9,
   "id": "962b51af",
   "metadata": {},
   "outputs": [
    {
     "data": {
      "text/plain": [
       "[(1, 1), (2, 4), (3, 9), (4, 16)]"
      ]
     },
     "execution_count": 9,
     "metadata": {},
     "output_type": "execute_result"
    }
   ],
   "source": [
    "[(i,i**2) for i in [1,2,3,4]]"
   ]
  },
  {
   "cell_type": "code",
   "execution_count": 12,
   "id": "08f79cc9",
   "metadata": {},
   "outputs": [
    {
     "name": "stdout",
     "output_type": "stream",
     "text": [
      "Both are equal\n"
     ]
    }
   ],
   "source": [
    "x=10\n",
    "b=10\n",
    "\n",
    "if x==b:\n",
    "    print(\"Both are equal\")\n",
    "else:\n",
    "    print(\"Not Equal\")"
   ]
  },
  {
   "cell_type": "code",
   "execution_count": 13,
   "id": "ab97ae18",
   "metadata": {},
   "outputs": [
    {
     "name": "stdout",
     "output_type": "stream",
     "text": [
      "The number is odd\n"
     ]
    }
   ],
   "source": [
    "x=11\n",
    "\n",
    "if x%2==1:\n",
    "    print(\"The number is odd\")\n",
    "else:\n",
    "    print(\"The number is even\")"
   ]
  },
  {
   "cell_type": "code",
   "execution_count": 14,
   "id": "262e862e",
   "metadata": {},
   "outputs": [
    {
     "name": "stdout",
     "output_type": "stream",
     "text": [
      "Enter any Number3\n",
      "Number is Odd\n"
     ]
    }
   ],
   "source": [
    "p=int(input(\"Enter any Number\"))\n",
    "\n",
    "if p%2==0:\n",
    "    print(\"Number is Even\")\n",
    "else:\n",
    "    print(\"Number is Odd\")"
   ]
  },
  {
   "cell_type": "code",
   "execution_count": 25,
   "id": "f019f231",
   "metadata": {},
   "outputs": [
    {
     "name": "stdout",
     "output_type": "stream",
     "text": [
      "Enter the marks 81\n",
      "Excellent\n"
     ]
    }
   ],
   "source": [
    "marks=int(input(\"Enter the marks \"))\n",
    "\n",
    "if marks>80: #marks greater than 80\n",
    "    print(\"Excellent\")\n",
    "    \n",
    "elif marks>60 & marks<80: # marks greater than 60 and less than 80\n",
    "    print(\"Very Good\")\n",
    "    \n",
    "elif marks>40 & marks<60: # marks greater than 40 and less than 60\n",
    "    print(\"Good You Passed\")\n",
    "else:\n",
    "    print(\"Try next time\")"
   ]
  },
  {
   "cell_type": "markdown",
   "id": "75af0eee",
   "metadata": {},
   "source": [
    "# keywords Break and Continue"
   ]
  },
  {
   "cell_type": "markdown",
   "id": "67ec80d0",
   "metadata": {},
   "source": [
    "- Break will break the loop.\n",
    "- Continue will escape the value and continue the loop till end"
   ]
  },
  {
   "cell_type": "code",
   "execution_count": 27,
   "id": "e696ce55",
   "metadata": {},
   "outputs": [
    {
     "name": "stdout",
     "output_type": "stream",
     "text": [
      "1 2 End\n"
     ]
    }
   ],
   "source": [
    "for i in [1,2,3,4,5]:\n",
    "    if i==3:\n",
    "        break # break when i is equal to 3\n",
    "    print(i,end=\" \")\n",
    "print(\"End\")"
   ]
  },
  {
   "cell_type": "code",
   "execution_count": 28,
   "id": "03a73d0c",
   "metadata": {},
   "outputs": [
    {
     "name": "stdout",
     "output_type": "stream",
     "text": [
      "apple\tmango\tbanana\t"
     ]
    }
   ],
   "source": [
    "for index in ['apple','mango','banana','orange','grapes']:\n",
    "    if index=='orange':\n",
    "        break #break when index is equal to orange\n",
    "    print(index,end=\"\\t\")"
   ]
  },
  {
   "cell_type": "code",
   "execution_count": 29,
   "id": "bb74b391",
   "metadata": {},
   "outputs": [
    {
     "name": "stdout",
     "output_type": "stream",
     "text": [
      "10\n",
      "20\n",
      "End of loop\n"
     ]
    }
   ],
   "source": [
    "for k in [10,20,30,40,50,60,70,80]:\n",
    "    if k==30:\n",
    "        break\n",
    "    print(k)\n",
    "print(\"End of loop\")"
   ]
  },
  {
   "cell_type": "markdown",
   "id": "a2030aa3",
   "metadata": {},
   "source": [
    "# Continue"
   ]
  },
  {
   "cell_type": "code",
   "execution_count": 31,
   "id": "a3afd9b2",
   "metadata": {},
   "outputs": [
    {
     "name": "stdout",
     "output_type": "stream",
     "text": [
      "1,2,4,5,End of Loop\n"
     ]
    }
   ],
   "source": [
    "for i in [1,2,3,4,5]:\n",
    "    if i==3:\n",
    "        continue\n",
    "        \n",
    "    # will print \n",
    "    print(i,end=\",\")\n",
    "print(\"End of Loop\")"
   ]
  },
  {
   "cell_type": "code",
   "execution_count": 32,
   "id": "32fac961",
   "metadata": {},
   "outputs": [
    {
     "name": "stdout",
     "output_type": "stream",
     "text": [
      "0 10 20 30 40 60 70 80 90 End of Loop\n"
     ]
    }
   ],
   "source": [
    "for i in range(0,100,10):\n",
    "    if i==50:\n",
    "        continue\n",
    "    print(i,end=\" \")\n",
    "print(\"End of Loop\")"
   ]
  },
  {
   "cell_type": "code",
   "execution_count": 35,
   "id": "cf27a1de",
   "metadata": {},
   "outputs": [
    {
     "name": "stdout",
     "output_type": "stream",
     "text": [
      "[1, 3, 5, 7, 9]\n",
      "End\n"
     ]
    }
   ],
   "source": [
    "box=[]\n",
    "for j in range(0,10):\n",
    "    if j%2==0:\n",
    "        continue\n",
    "    box.append(j)\n",
    "print(box)\n",
    "print(\"End\")"
   ]
  },
  {
   "cell_type": "code",
   "execution_count": 44,
   "id": "91488206",
   "metadata": {},
   "outputs": [
    {
     "name": "stdout",
     "output_type": "stream",
     "text": [
      "apple\n",
      "mango\n",
      "banana\n"
     ]
    }
   ],
   "source": [
    "for p in ['apple','mango','banana','guava','papaya']:\n",
    "    if p=='guava':\n",
    "        continue\n",
    "    elif p=='papaya':\n",
    "        break\n",
    "            \n",
    "    print(p)"
   ]
  },
  {
   "cell_type": "code",
   "execution_count": 46,
   "id": "84470cd0",
   "metadata": {},
   "outputs": [
    {
     "name": "stdout",
     "output_type": "stream",
     "text": [
      "a\n",
      "b\n",
      "c\n",
      "d\n"
     ]
    }
   ],
   "source": [
    "box=['a','b','c','d','e','f']\n",
    "\n",
    "for i in box:\n",
    "    if i=='e':\n",
    "        break\n",
    "    print(i)"
   ]
  },
  {
   "cell_type": "markdown",
   "id": "a22b94ed",
   "metadata": {},
   "source": [
    "## List Comprehension"
   ]
  },
  {
   "cell_type": "code",
   "execution_count": 47,
   "id": "6823b377",
   "metadata": {},
   "outputs": [
    {
     "data": {
      "text/plain": [
       "[10, 20, 30, 40, 50]"
      ]
     },
     "execution_count": 47,
     "metadata": {},
     "output_type": "execute_result"
    }
   ],
   "source": [
    "list1=[10,20,30,40,50]\n",
    "\n",
    "[s for s in list1 if s%2==0]"
   ]
  },
  {
   "cell_type": "code",
   "execution_count": 48,
   "id": "f12fefb4",
   "metadata": {},
   "outputs": [
    {
     "data": {
      "text/plain": [
       "['10', '20', '30', '40', '50']"
      ]
     },
     "execution_count": 48,
     "metadata": {},
     "output_type": "execute_result"
    }
   ],
   "source": [
    "[str(s) for s in list1 ]"
   ]
  },
  {
   "cell_type": "code",
   "execution_count": 49,
   "id": "5da4f898",
   "metadata": {},
   "outputs": [
    {
     "data": {
      "text/plain": [
       "[1, 3, 5, 7, 9]"
      ]
     },
     "execution_count": 49,
     "metadata": {},
     "output_type": "execute_result"
    }
   ],
   "source": [
    "[s for s in range(0,11,1) if s%2!=0]"
   ]
  },
  {
   "cell_type": "code",
   "execution_count": 50,
   "id": "3df1821c",
   "metadata": {},
   "outputs": [
    {
     "data": {
      "text/plain": [
       "[10, 15, 20, 25]"
      ]
     },
     "execution_count": 50,
     "metadata": {},
     "output_type": "execute_result"
    }
   ],
   "source": [
    "[s for s in range(10,30,5)]"
   ]
  },
  {
   "cell_type": "code",
   "execution_count": 51,
   "id": "e9fcaf8d",
   "metadata": {},
   "outputs": [
    {
     "data": {
      "text/plain": [
       "[10, 12, 14, 16, 18, 20, 22, 24, 26, 28]"
      ]
     },
     "execution_count": 51,
     "metadata": {},
     "output_type": "execute_result"
    }
   ],
   "source": [
    "[s for s in range(10,30,2) if s%2==0]"
   ]
  },
  {
   "cell_type": "code",
   "execution_count": null,
   "id": "f26de317",
   "metadata": {},
   "outputs": [],
   "source": []
  }
 ],
 "metadata": {
  "kernelspec": {
   "display_name": "Python 3 (ipykernel)",
   "language": "python",
   "name": "python3"
  },
  "language_info": {
   "codemirror_mode": {
    "name": "ipython",
    "version": 3
   },
   "file_extension": ".py",
   "mimetype": "text/x-python",
   "name": "python",
   "nbconvert_exporter": "python",
   "pygments_lexer": "ipython3",
   "version": "3.9.13"
  }
 },
 "nbformat": 4,
 "nbformat_minor": 5
}
