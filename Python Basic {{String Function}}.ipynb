{
 "cells": [
  {
   "cell_type": "markdown",
   "id": "aea32cf1",
   "metadata": {},
   "source": [
    "# String Function"
   ]
  },
  {
   "cell_type": "code",
   "execution_count": 1,
   "id": "89d0e614",
   "metadata": {},
   "outputs": [
    {
     "data": {
      "text/plain": [
       "'COMPUTER'"
      ]
     },
     "execution_count": 1,
     "metadata": {},
     "output_type": "execute_result"
    }
   ],
   "source": [
    "# normal string\n",
    "string=\"Computer\"\n",
    "\n",
    "# string changed to upper\n",
    "string.upper()"
   ]
  },
  {
   "cell_type": "code",
   "execution_count": 2,
   "id": "5e761e7d",
   "metadata": {},
   "outputs": [
    {
     "data": {
      "text/plain": [
       "'computer'"
      ]
     },
     "execution_count": 2,
     "metadata": {},
     "output_type": "execute_result"
    }
   ],
   "source": [
    "# string changed to lower\n",
    "string.lower()"
   ]
  },
  {
   "cell_type": "code",
   "execution_count": 3,
   "id": "5ff211af",
   "metadata": {},
   "outputs": [
    {
     "data": {
      "text/plain": [
       "'Computer'"
      ]
     },
     "execution_count": 3,
     "metadata": {},
     "output_type": "execute_result"
    }
   ],
   "source": [
    "# string changed to first element capital\n",
    "string.capitalize()"
   ]
  },
  {
   "cell_type": "code",
   "execution_count": 4,
   "id": "3623eca0",
   "metadata": {},
   "outputs": [
    {
     "data": {
      "text/plain": [
       "'computer'"
      ]
     },
     "execution_count": 4,
     "metadata": {},
     "output_type": "execute_result"
    }
   ],
   "source": [
    "# makes all to lower\n",
    "string.casefold()"
   ]
  },
  {
   "cell_type": "code",
   "execution_count": 15,
   "id": "bdc90ef8",
   "metadata": {},
   "outputs": [
    {
     "data": {
      "text/plain": [
       "1"
      ]
     },
     "execution_count": 15,
     "metadata": {},
     "output_type": "execute_result"
    }
   ],
   "source": [
    "# \n",
    "string.find('o')"
   ]
  },
  {
   "cell_type": "code",
   "execution_count": 16,
   "id": "29ab59ea",
   "metadata": {},
   "outputs": [
    {
     "data": {
      "text/plain": [
       "8"
      ]
     },
     "execution_count": 16,
     "metadata": {},
     "output_type": "execute_result"
    }
   ],
   "source": [
    "len(string)"
   ]
  },
  {
   "cell_type": "code",
   "execution_count": 20,
   "id": "100aeac6",
   "metadata": {},
   "outputs": [
    {
     "data": {
      "text/plain": [
       "'cOMPUTER'"
      ]
     },
     "execution_count": 20,
     "metadata": {},
     "output_type": "execute_result"
    }
   ],
   "source": [
    "# capital case goes smaller and smaller become upper\n",
    "string.swapcase()"
   ]
  },
  {
   "cell_type": "code",
   "execution_count": 21,
   "id": "037b4c69",
   "metadata": {},
   "outputs": [
    {
     "data": {
      "text/plain": [
       "True"
      ]
     },
     "execution_count": 21,
     "metadata": {},
     "output_type": "execute_result"
    }
   ],
   "source": [
    "# checking word as alphanumeric\n",
    "string.isalnum()"
   ]
  },
  {
   "cell_type": "code",
   "execution_count": 22,
   "id": "1c8d9736",
   "metadata": {},
   "outputs": [
    {
     "data": {
      "text/plain": [
       "True"
      ]
     },
     "execution_count": 22,
     "metadata": {},
     "output_type": "execute_result"
    }
   ],
   "source": [
    "# checking word is alpha\n",
    "string.isalpha()"
   ]
  },
  {
   "cell_type": "code",
   "execution_count": 24,
   "id": "329cd253",
   "metadata": {},
   "outputs": [
    {
     "data": {
      "text/plain": [
       "False"
      ]
     },
     "execution_count": 24,
     "metadata": {},
     "output_type": "execute_result"
    }
   ],
   "source": [
    "# checking word is digit\n",
    "string.isdigit()"
   ]
  },
  {
   "cell_type": "code",
   "execution_count": 25,
   "id": "e2c2da86",
   "metadata": {},
   "outputs": [
    {
     "data": {
      "text/plain": [
       "False"
      ]
     },
     "execution_count": 25,
     "metadata": {},
     "output_type": "execute_result"
    }
   ],
   "source": [
    "# checking word is numerical\n",
    "string.isnumeric()"
   ]
  },
  {
   "cell_type": "code",
   "execution_count": 26,
   "id": "987324ad",
   "metadata": {},
   "outputs": [
    {
     "data": {
      "text/plain": [
       "['Data', 'Science', 'is', 'an', 'important', 'topic', 'to', 'discuss']"
      ]
     },
     "execution_count": 26,
     "metadata": {},
     "output_type": "execute_result"
    }
   ],
   "source": [
    "val=\"Data Science is an important topic to discuss\"\n",
    "val.split()"
   ]
  },
  {
   "cell_type": "code",
   "execution_count": 27,
   "id": "4790cf3e",
   "metadata": {},
   "outputs": [
    {
     "data": {
      "text/plain": [
       "False"
      ]
     },
     "execution_count": 27,
     "metadata": {},
     "output_type": "execute_result"
    }
   ],
   "source": [
    "val.isupper()"
   ]
  },
  {
   "cell_type": "code",
   "execution_count": 28,
   "id": "6a44ac8a",
   "metadata": {},
   "outputs": [
    {
     "data": {
      "text/plain": [
       "False"
      ]
     },
     "execution_count": 28,
     "metadata": {},
     "output_type": "execute_result"
    }
   ],
   "source": [
    "val.islower()"
   ]
  },
  {
   "cell_type": "code",
   "execution_count": 1,
   "id": "37d00a67",
   "metadata": {},
   "outputs": [],
   "source": [
    "a='Computer'"
   ]
  },
  {
   "cell_type": "code",
   "execution_count": 2,
   "id": "73cceed9",
   "metadata": {},
   "outputs": [
    {
     "data": {
      "text/plain": [
       "False"
      ]
     },
     "execution_count": 2,
     "metadata": {},
     "output_type": "execute_result"
    }
   ],
   "source": [
    "a.islower()"
   ]
  },
  {
   "cell_type": "code",
   "execution_count": 3,
   "id": "4861927c",
   "metadata": {},
   "outputs": [
    {
     "data": {
      "text/plain": [
       "False"
      ]
     },
     "execution_count": 3,
     "metadata": {},
     "output_type": "execute_result"
    }
   ],
   "source": [
    "a.isupper()"
   ]
  },
  {
   "cell_type": "code",
   "execution_count": 7,
   "id": "76c55c77",
   "metadata": {},
   "outputs": [
    {
     "data": {
      "text/plain": [
       "True"
      ]
     },
     "execution_count": 7,
     "metadata": {},
     "output_type": "execute_result"
    }
   ],
   "source": [
    "a.swapcase()\n",
    "c=a.casefold()\n",
    "c.islower()"
   ]
  },
  {
   "cell_type": "code",
   "execution_count": 8,
   "id": "fe8ece4d",
   "metadata": {},
   "outputs": [
    {
     "data": {
      "text/plain": [
       "True"
      ]
     },
     "execution_count": 8,
     "metadata": {},
     "output_type": "execute_result"
    }
   ],
   "source": [
    "c.isalpha()"
   ]
  },
  {
   "cell_type": "code",
   "execution_count": 9,
   "id": "3e313a4b",
   "metadata": {},
   "outputs": [
    {
     "name": "stdout",
     "output_type": "stream",
     "text": [
      "False\n",
      "False\n"
     ]
    }
   ],
   "source": [
    "print(c.isdigit())\n",
    "print(c.isnumeric())"
   ]
  },
  {
   "cell_type": "code",
   "execution_count": 10,
   "id": "82cda841",
   "metadata": {},
   "outputs": [
    {
     "data": {
      "text/plain": [
       "['computer']"
      ]
     },
     "execution_count": 10,
     "metadata": {},
     "output_type": "execute_result"
    }
   ],
   "source": [
    "c.split()"
   ]
  },
  {
   "cell_type": "code",
   "execution_count": 11,
   "id": "c0dd210f",
   "metadata": {},
   "outputs": [
    {
     "data": {
      "text/plain": [
       "'computer'"
      ]
     },
     "execution_count": 11,
     "metadata": {},
     "output_type": "execute_result"
    }
   ],
   "source": [
    "c.strip()"
   ]
  },
  {
   "cell_type": "code",
   "execution_count": 12,
   "id": "adb931af",
   "metadata": {},
   "outputs": [
    {
     "data": {
      "text/plain": [
       "True"
      ]
     },
     "execution_count": 12,
     "metadata": {},
     "output_type": "execute_result"
    }
   ],
   "source": [
    "c.isalnum()"
   ]
  },
  {
   "cell_type": "code",
   "execution_count": 13,
   "id": "1a07824d",
   "metadata": {},
   "outputs": [
    {
     "data": {
      "text/plain": [
       "False"
      ]
     },
     "execution_count": 13,
     "metadata": {},
     "output_type": "execute_result"
    }
   ],
   "source": [
    "c.isdigit()"
   ]
  },
  {
   "cell_type": "code",
   "execution_count": 14,
   "id": "73fa4e26",
   "metadata": {},
   "outputs": [
    {
     "data": {
      "text/plain": [
       "True"
      ]
     },
     "execution_count": 14,
     "metadata": {},
     "output_type": "execute_result"
    }
   ],
   "source": [
    "c.isalpha()"
   ]
  },
  {
   "cell_type": "code",
   "execution_count": 16,
   "id": "6da302cb",
   "metadata": {},
   "outputs": [
    {
     "data": {
      "text/plain": [
       "'Computer'"
      ]
     },
     "execution_count": 16,
     "metadata": {},
     "output_type": "execute_result"
    }
   ],
   "source": [
    "c.capitalize()"
   ]
  },
  {
   "cell_type": "code",
   "execution_count": 19,
   "id": "268f08f6",
   "metadata": {},
   "outputs": [
    {
     "name": "stdout",
     "output_type": "stream",
     "text": [
      "0 1 2 3 4 End\n"
     ]
    }
   ],
   "source": [
    "for i in range(5):\n",
    "    print(i,end=\" \")\n",
    "print(\"End\")"
   ]
  },
  {
   "cell_type": "code",
   "execution_count": 20,
   "id": "c74c1eb2",
   "metadata": {},
   "outputs": [
    {
     "data": {
      "text/plain": [
       "'Data Science Is Used In Every Industries'"
      ]
     },
     "execution_count": 20,
     "metadata": {},
     "output_type": "execute_result"
    }
   ],
   "source": [
    "string1=\"data science is used in every Industries\"\n",
    "\n",
    "# Title will capitalize the every words first letter to capital\n",
    "string1.title()"
   ]
  },
  {
   "cell_type": "markdown",
   "id": "41ee620f",
   "metadata": {},
   "source": [
    "# Casefold"
   ]
  },
  {
   "cell_type": "code",
   "execution_count": 21,
   "id": "934a32cc",
   "metadata": {},
   "outputs": [
    {
     "name": "stdout",
     "output_type": "stream",
     "text": [
      "Same text\n"
     ]
    }
   ],
   "source": [
    "string1=\"Hello\"\n",
    "string2=\"hellO\"\n",
    "\n",
    "if string1.casefold()==string2.casefold():\n",
    "    print(\"Same text\")\n",
    "else:\n",
    "    print(\"Not matching\")"
   ]
  },
  {
   "cell_type": "markdown",
   "id": "3d668541",
   "metadata": {},
   "source": [
    "### Difference between capitalize and title"
   ]
  },
  {
   "cell_type": "code",
   "execution_count": 23,
   "id": "a72fec1b",
   "metadata": {},
   "outputs": [
    {
     "name": "stdout",
     "output_type": "stream",
     "text": [
      "In Capitalize : Desk top\n",
      "In Title : Desk Top\n"
     ]
    }
   ],
   "source": [
    "string1=\"desk top\"\n",
    "print(\"In Capitalize :\",string1.capitalize())\n",
    "print(\"In Title :\",string1.title())"
   ]
  },
  {
   "cell_type": "markdown",
   "id": "e145b974",
   "metadata": {},
   "source": [
    "# String Format\n",
    "\n",
    "we use % as an operator to set variable enclosed in tuple\n",
    "\n",
    "- %d==> digit data\n",
    "- %s==> string data"
   ]
  },
  {
   "cell_type": "code",
   "execution_count": 26,
   "id": "7ac53778",
   "metadata": {},
   "outputs": [
    {
     "name": "stdout",
     "output_type": "stream",
     "text": [
      "Hello John\n"
     ]
    }
   ],
   "source": [
    "name=\"John\"\n",
    "print(\"Hello %s\"%name)"
   ]
  },
  {
   "cell_type": "code",
   "execution_count": 27,
   "id": "b2a7857e",
   "metadata": {},
   "outputs": [
    {
     "name": "stdout",
     "output_type": "stream",
     "text": [
      "Hello Buddy\n"
     ]
    }
   ],
   "source": [
    "name=\"Buddy\"\n",
    "print(\"Hello %s\"%name)"
   ]
  },
  {
   "cell_type": "code",
   "execution_count": 29,
   "id": "ac147952",
   "metadata": {},
   "outputs": [
    {
     "name": "stdout",
     "output_type": "stream",
     "text": [
      "Enter your name Arun\n",
      "Enter your age 25\n",
      "Hello \"Arun\" your age is '25'\n"
     ]
    }
   ],
   "source": [
    "# input name\n",
    "name=input(\"Enter your name \")\n",
    "\n",
    "# input age\n",
    "age=int(input(\"Enter your age \"))\n",
    "\n",
    "print(\"Hello \\\"%s\\\" your age is '%d'\"%(name,age))"
   ]
  },
  {
   "cell_type": "code",
   "execution_count": 30,
   "id": "8d3a27ef",
   "metadata": {},
   "outputs": [
    {
     "name": "stdout",
     "output_type": "stream",
     "text": [
      "Hello \"Arun\" you are from \"Banglore\"and your age is 25.\n"
     ]
    }
   ],
   "source": [
    "city=\"Banglore\"\n",
    "print(\"Hello \\\"%s\\\" you are from \\\"%s\\\"and your age is %d.\"%(name,city,age))"
   ]
  },
  {
   "cell_type": "code",
   "execution_count": 31,
   "id": "3599274e",
   "metadata": {},
   "outputs": [
    {
     "name": "stdout",
     "output_type": "stream",
     "text": [
      "Hello can you buy me a kilo of apple and leamon\n"
     ]
    }
   ],
   "source": [
    "x=\"apple\"\n",
    "y=\"leamon\"\n",
    "\n",
    "print(\"Hello can you buy me a kilo of %s and %s\"%(x,y))"
   ]
  },
  {
   "cell_type": "markdown",
   "id": "4258e12b",
   "metadata": {},
   "source": [
    "###  String.format Function"
   ]
  },
  {
   "cell_type": "code",
   "execution_count": 32,
   "id": "a8388cd2",
   "metadata": {},
   "outputs": [
    {
     "name": "stdout",
     "output_type": "stream",
     "text": [
      "Hello Arun your age is 25\n"
     ]
    }
   ],
   "source": [
    "print(\"Hello {} your age is {}\".format(name,age))"
   ]
  },
  {
   "cell_type": "code",
   "execution_count": 37,
   "id": "b15b7a53",
   "metadata": {},
   "outputs": [
    {
     "name": "stdout",
     "output_type": "stream",
     "text": [
      "eggs and spam \n",
      "spam and eggs \n"
     ]
    }
   ],
   "source": [
    "print(\"{1} and {0} \".format(\"spam\",\"eggs\"))\n",
    "print(\"{0} and {1} \".format(\"spam\",\"eggs\"))"
   ]
  },
  {
   "cell_type": "code",
   "execution_count": 34,
   "id": "1cb1376d",
   "metadata": {},
   "outputs": [
    {
     "name": "stdout",
     "output_type": "stream",
     "text": [
      "Hello Ankit, Lets go green!!\n"
     ]
    }
   ],
   "source": [
    "print(\"Hello {}, Lets go green!!\".format(\"Ankit\"))"
   ]
  },
  {
   "cell_type": "code",
   "execution_count": 35,
   "id": "2e76f5ce",
   "metadata": {},
   "outputs": [
    {
     "name": "stdout",
     "output_type": "stream",
     "text": [
      "I will become good Data Scientist one day.\n"
     ]
    }
   ],
   "source": [
    "g=\"Data Scientist\"\n",
    "print(\"I {} {} good {} one day.\".format(\"will\",\"become\",g))"
   ]
  },
  {
   "cell_type": "code",
   "execution_count": null,
   "id": "61caa50c",
   "metadata": {},
   "outputs": [],
   "source": []
  }
 ],
 "metadata": {
  "kernelspec": {
   "display_name": "Python 3 (ipykernel)",
   "language": "python",
   "name": "python3"
  },
  "language_info": {
   "codemirror_mode": {
    "name": "ipython",
    "version": 3
   },
   "file_extension": ".py",
   "mimetype": "text/x-python",
   "name": "python",
   "nbconvert_exporter": "python",
   "pygments_lexer": "ipython3",
   "version": "3.9.13"
  }
 },
 "nbformat": 4,
 "nbformat_minor": 5
}
