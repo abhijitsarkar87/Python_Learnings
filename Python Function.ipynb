{
 "cells": [
  {
   "cell_type": "markdown",
   "id": "97983cc5",
   "metadata": {},
   "source": [
    "# Function"
   ]
  },
  {
   "cell_type": "markdown",
   "id": "9b3a9d35",
   "metadata": {},
   "source": [
    "-  Function are of three type.\n",
    "\n",
    "1. Built in Function\n",
    "\n",
    "Example: help() \n",
    "\n",
    "2. User Defined Function\n",
    "3. Lambda Function"
   ]
  },
  {
   "cell_type": "code",
   "execution_count": 1,
   "id": "f363eb32",
   "metadata": {},
   "outputs": [
    {
     "name": "stdout",
     "output_type": "stream",
     "text": [
      "\n",
      "Welcome to Python 3.9's help utility!\n",
      "\n",
      "If this is your first time using Python, you should definitely check out\n",
      "the tutorial on the Internet at https://docs.python.org/3.9/tutorial/.\n",
      "\n",
      "Enter the name of any module, keyword, or topic to get help on writing\n",
      "Python programs and using Python modules.  To quit this help utility and\n",
      "return to the interpreter, just type \"quit\".\n",
      "\n",
      "To get a list of available modules, keywords, symbols, or topics, type\n",
      "\"modules\", \"keywords\", \"symbols\", or \"topics\".  Each module also comes\n",
      "with a one-line summary of what it does; to list the modules whose name\n",
      "or summary contain a given string such as \"spam\", type \"modules spam\".\n",
      "\n",
      "help> keywords\n",
      "\n",
      "Here is a list of the Python keywords.  Enter any keyword to get more help.\n",
      "\n",
      "False               break               for                 not\n",
      "None                class               from                or\n",
      "True                continue            global              pass\n",
      "__peg_parser__      def                 if                  raise\n",
      "and                 del                 import              return\n",
      "as                  elif                in                  try\n",
      "assert              else                is                  while\n",
      "async               except              lambda              with\n",
      "await               finally             nonlocal            yield\n",
      "\n",
      "help> symbols\n",
      "\n",
      "Here is a list of the punctuation symbols which Python assigns special meaning\n",
      "to. Enter any symbol to get more help.\n",
      "\n",
      "!=                  +                   <=                  __\n",
      "\"                   +=                  <>                  `\n",
      "\"\"\"                 ,                   ==                  b\"\n",
      "%                   -                   >                   b'\n",
      "%=                  -=                  >=                  f\"\n",
      "&                   .                   >>                  f'\n",
      "&=                  ...                 >>=                 j\n",
      "'                   /                   @                   r\"\n",
      "'''                 //                  J                   r'\n",
      "(                   //=                 [                   u\"\n",
      ")                   /=                  \\                   u'\n",
      "*                   :                   ]                   |\n",
      "**                  <                   ^                   |=\n",
      "**=                 <<                  ^=                  ~\n",
      "*=                  <<=                 _                   \n",
      "\n",
      "help> topics\n",
      "\n",
      "Here is a list of available topics.  Enter any topic name to get more help.\n",
      "\n",
      "ASSERTION           DELETION            LOOPING             SHIFTING\n",
      "ASSIGNMENT          DICTIONARIES        MAPPINGMETHODS      SLICINGS\n",
      "ATTRIBUTEMETHODS    DICTIONARYLITERALS  MAPPINGS            SPECIALATTRIBUTES\n",
      "ATTRIBUTES          DYNAMICFEATURES     METHODS             SPECIALIDENTIFIERS\n",
      "AUGMENTEDASSIGNMENT ELLIPSIS            MODULES             SPECIALMETHODS\n",
      "BASICMETHODS        EXCEPTIONS          NAMESPACES          STRINGMETHODS\n",
      "BINARY              EXECUTION           NONE                STRINGS\n",
      "BITWISE             EXPRESSIONS         NUMBERMETHODS       SUBSCRIPTS\n",
      "BOOLEAN             FLOAT               NUMBERS             TRACEBACKS\n",
      "CALLABLEMETHODS     FORMATTING          OBJECTS             TRUTHVALUE\n",
      "CALLS               FRAMEOBJECTS        OPERATORS           TUPLELITERALS\n",
      "CLASSES             FRAMES              PACKAGES            TUPLES\n",
      "CODEOBJECTS         FUNCTIONS           POWER               TYPEOBJECTS\n",
      "COMPARISON          IDENTIFIERS         PRECEDENCE          TYPES\n",
      "COMPLEX             IMPORTING           PRIVATENAMES        UNARY\n",
      "CONDITIONAL         INTEGER             RETURNING           UNICODE\n",
      "CONTEXTMANAGERS     LISTLITERALS        SCOPING             \n",
      "CONVERSIONS         LISTS               SEQUENCEMETHODS     \n",
      "DEBUGGING           LITERALS            SEQUENCES           \n",
      "\n",
      "help> modules\n",
      "\n",
      "Please wait a moment while I gather a list of all available modules...\n",
      "\n"
     ]
    },
    {
     "name": "stderr",
     "output_type": "stream",
     "text": [
      "C:\\Users\\jitsa\\anaconda3\\lib\\site-packages\\IPython\\kernel\\__init__.py:12: ShimWarning: The `IPython.kernel` package has been deprecated since IPython 4.0.You should import from ipykernel or jupyter_client instead.\n",
      "  warn(\"The `IPython.kernel` package has been deprecated since IPython 4.0.\"\n",
      "WARNING: AstropyDeprecationWarning: The private astropy._erfa module has been made into its own package, pyerfa, which is a dependency of astropy and can be imported directly using \"import erfa\" [astropy._erfa]\n",
      "C:\\Users\\jitsa\\anaconda3\\lib\\site-packages\\paramiko\\transport.py:219: CryptographyDeprecationWarning: Blowfish has been deprecated\n",
      "  \"class\": algorithms.Blowfish,\n",
      "C:\\Users\\jitsa\\anaconda3\\lib\\site-packages\\nltk\\twitter\\__init__.py:20: UserWarning: The twython library has not been installed. Some functionality from the twitter package will not be available.\n",
      "  warnings.warn(\n",
      "C:\\Users\\jitsa\\anaconda3\\lib\\site-packages\\_distutils_hack\\__init__.py:33: UserWarning: Setuptools is replacing distutils.\n",
      "  warnings.warn(\"Setuptools is replacing distutils.\")\n",
      "No QCoreApplication instance found. Application patches not applied. You have to call load_stylesheet function after instantiation of QApplication to take effect. \n",
      "C:\\Users\\jitsa\\anaconda3\\lib\\pkgutil.py:108: VisibleDeprecationWarning:\n",
      "\n",
      "zmq.eventloop.minitornado is deprecated in pyzmq 14.0 and will be removed.\n",
      "    Install tornado itself to use zmq with the tornado IOLoop.\n",
      "    \n",
      "\n"
     ]
    },
    {
     "name": "stdout",
     "output_type": "stream",
     "text": [
      "Cython              compileall          mmapfile            socket\n",
      "IPython             comtypes            mmsystem            socketserver\n",
      "OpenSSL             concurrent          mock                socks\n",
      "PIL                 conda               modulefinder        sockshandler\n",
      "PyQt5               conda_build         mpmath              sortedcollections\n",
      "TBB                 conda_content_trust msgpack             sortedcontainers\n",
      "__future__          conda_env           msilib              soupsieve\n",
      "_abc                conda_pack          msvcrt              sphinx\n",
      "_aix_support        conda_package_handling multipledispatch    spyder\n",
      "_argon2_cffi_bindings conda_package_streaming multiprocessing     spyder_kernels\n",
      "_ast                conda_token         munkres             sqlalchemy\n",
      "_asyncio            conda_verify        mypy_extensions     sqlite3\n",
      "_bisect             configparser        nacl                sre_compile\n",
      "_black_version      constantly          navigator_updater   sre_constants\n",
      "_blake2             contextlib          nbclassic           sre_parse\n",
      "_bootlocale         contextvars         nbclient            ssl\n",
      "_bootsubprocess     cookiecutter        nbconvert           sspi\n",
      "_bz2                copy                nbformat            sspicon\n",
      "_cffi_backend       copyreg             nest_asyncio        stat\n",
      "_codecs             crypt               netbios             statistics\n",
      "_codecs_cn          cryptography        netrc               statsmodels\n",
      "_codecs_hk          cssselect           networkx            storemagic\n",
      "_codecs_iso2022     csv                 nltk                string\n",
      "_codecs_jp          ctypes              nntplib             stringprep\n",
      "_codecs_kr          curl                nose                struct\n",
      "_codecs_tw          curses              notebook            subprocess\n",
      "_collections        cwp                 nt                  sunau\n",
      "_collections_abc    cycler              ntpath              symbol\n",
      "_compat_pickle      cython              ntsecuritycon       sympy\n",
      "_compression        cythonmagic         nturl2path          sympyprinting\n",
      "_contextvars        cytoolz             numba               symtable\n",
      "_csv                daal4py             numbergen           sys\n",
      "_ctypes             dask                numbers             sysconfig\n",
      "_ctypes_test        dataclasses         numexpr             tables\n",
      "_datetime           datashader          numpy               tabnanny\n",
      "_decimal            datashape           numpydoc            tabulate\n",
      "_distutils_hack     datetime            odbc                tarfile\n",
      "_elementtree        dateutil            olefile             tbb\n",
      "_functools          dbi                 onedal              tblib\n",
      "_hashlib            dbm                 opcode              telnetlib\n",
      "_heapq              dde                 openpyxl            tempfile\n",
      "_imp                debugpy             operator            tenacity\n",
      "_io                 decimal             optparse            terminado\n",
      "_json               decorator           os                  test\n",
      "_locale             defusedxml          packaging           test_pycosat\n",
      "_lsprof             diff_match_patch    pandas              testpath\n",
      "_lzma               difflib             pandocfilters       tests\n",
      "_markupbase         dill                panel               text_unidecode\n",
      "_md5                dis                 param               textdistance\n",
      "_msi                distributed         paramiko            textwrap\n",
      "_multibytecodec     distutils           parsel              this\n",
      "_multiprocessing    doctest             parser              threading\n",
      "_nsis               docutils            parso               threadpoolctl\n",
      "_opcode             email               partd               three_merge\n",
      "_operator           encodings           past                tifffile\n",
      "_osx_support        ensurepip           pathlib             time\n",
      "_overlapped         entrypoints         pathspec            timeit\n",
      "_peg_parser         enum                patsy               timer\n",
      "_pickle             erfa                pdb                 tinycss\n",
      "_plotly_future_     errno               pep8                tkinter\n",
      "_plotly_utils       et_xmlfile          perfmon             tldextract\n",
      "_py_abc             fastjsonschema      pexpect             tlz\n",
      "_pydecimal          faulthandler        pickle              token\n",
      "_pyio               filecmp             pickleshare         tokenize\n",
      "_pyrsistent_version fileinput           pickletools         toml\n",
      "_pytest             filelock            pip                 tomli\n",
      "_queue              flake8              pipes               tomlkit\n",
      "_random             flask               pkg_resources       toolz\n",
      "_ruamel_yaml        fnmatch             pkginfo             tornado\n",
      "_sha1               fontTools           pkgutil             tqdm\n",
      "_sha256             formatter           platform            trace\n",
      "_sha3               fractions           platformdirs        traceback\n",
      "_sha512             fsspec              plistlib            tracemalloc\n",
      "_signal             ftplib              plotly              traitlets\n",
      "_sitebuiltins       functools           pluggy              tty\n",
      "_socket             future              poplib              turtle\n",
      "_sqlite3            gc                  posixpath           turtledemo\n",
      "_sre                genericpath         poyo                twisted\n",
      "_ssl                gensim              pprint              types\n",
      "_stat               getopt              profile             typing\n",
      "_statistics         getpass             prometheus_client   typing_extensions\n",
      "_string             gettext             prompt_toolkit      ujson\n",
      "_strptime           glob                protego             unicodedata\n",
      "_struct             glob2               pstats              unidecode\n",
      "_symtable           graphlib            psutil              unittest\n",
      "_system_path        greenlet            pty                 urllib\n",
      "_testbuffer         gzip                ptyprocess          urllib3\n",
      "_testcapi           h5py                pvectorc            uu\n",
      "_testconsole        hamcrest            py                  uuid\n",
      "_testimportmultiple hashlib             py_compile          venv\n",
      "_testinternalcapi   heapdict            pyasn1              w3lib\n",
      "_testmultiphase     heapq               pyasn1_modules      warnings\n",
      "_thread             hmac                pyclbr              watchdog\n",
      "_threading_local    holoviews           pycodestyle         wave\n",
      "_tkinter            html                pycosat             wcwidth\n",
      "_tracemalloc        http                pycparser           weakref\n",
      "_uuid               hvplot              pyct                webbrowser\n",
      "_warnings           hyperlink           pycurl              webencodings\n",
      "_weakref            idlelib             pydispatch          websocket\n",
      "_weakrefset         idna                pydoc               werkzeug\n",
      "_win32sysloader     imagecodecs         pydoc_data          wheel\n",
      "_winapi             imageio             pydocstyle          widgetsnbextension\n",
      "_winxptheme         imagesize           pyexpat             win2kras\n",
      "_xxsubinterpreters  imaplib             pyflakes            win32api\n",
      "_yaml               imghdr              pygments            win32clipboard\n",
      "_zoneinfo           imp                 pylab               win32com\n",
      "abc                 importlib           pylint              win32con\n",
      "adodbapi            importlib_metadata  pyls_spyder         win32console\n",
      "afxres              incremental         pylsp               win32cred\n",
      "aifc                inflection          pylsp_black         win32crypt\n",
      "alabaster           iniconfig           pylsp_jsonrpc       win32cryptcon\n",
      "anaconda_navigator  inspect             pyodbc              win32ctypes\n",
      "anaconda_project    intake              pyparsing           win32event\n",
      "antigravity         intervaltree        pyrsistent          win32evtlog\n",
      "anyio               io                  pytest              win32evtlogutil\n",
      "appdirs             ipaddress           pythoncom           win32file\n",
      "argon2              ipykernel           pytz                win32gui\n",
      "argparse            ipykernel_launcher  pyviz_comms         win32gui_struct\n",
      "array               ipython_genutils    pywin               win32help\n",
      "arrow               ipywidgets          pywin32_bootstrap   win32inet\n",
      "ast                 isapi               pywin32_testutil    win32inetcon\n",
      "astroid             isort               pywintypes          win32job\n",
      "astropy             isympy              pywt                win32lz\n",
      "asynchat            itemadapter         pyximport           win32net\n",
      "asyncio             itemloaders         qdarkstyle          win32netcon\n",
      "asyncore            itertools           qstylizer           win32pdh\n",
      "atexit              itsdangerous        qtawesome           win32pdhquery\n",
      "atomicwrites        jdcal               qtconsole           win32pdhutil\n",
      "attr                jedi                qtpy                win32pipe\n",
      "attrs               jellyfish           queue               win32print\n",
      "audioop             jinja2              queuelib            win32process\n",
      "automat             jinja2_time         quopri              win32profile\n",
      "autopep8            jmespath            random              win32ras\n",
      "autoreload          joblib              rasutil             win32rcparser\n",
      "babel               json                re                  win32security\n",
      "backcall            json5               regcheck            win32service\n",
      "backports           jsonschema          regex               win32serviceutil\n",
      "base64              jupyter             regutil             win32timezone\n",
      "bcrypt              jupyter_client      repo_cli            win32trace\n",
      "bdb                 jupyter_console     reprlib             win32traceutil\n",
      "binaryornot         jupyter_core        requests            win32transaction\n",
      "binascii            jupyter_server      requests_file       win32ts\n",
      "binhex              jupyterlab          rlcompleter         win32ui\n",
      "binstar_client      jupyterlab_plotly   rmagic              win32uiole\n",
      "bisect              jupyterlab_pygments rope                win32verstamp\n",
      "bitarray            jupyterlab_server   rtree               win32wnet\n",
      "bkcharts            jupyterlab_widgets  ruamel_yaml         win_inet_pton\n",
      "black               jwt                 run                 win_unicode_console\n",
      "blackd              keyring             runpy               wincertstore\n",
      "bleach              keyword             s3transfer          winerror\n",
      "blib2to3            kiwisolver          sched               winioctlcon\n",
      "bokeh               lazy_object_proxy   scipy               winnt\n",
      "boto3               lib2to3             scrapy              winperf\n",
      "botocore            libarchive          seaborn             winpty\n",
      "bottleneck          libfuturize         secrets             winreg\n",
      "brotli              libpasteurize       select              winsound\n",
      "bs4                 lief                selectors           winxpgui\n",
      "builtins            linecache           send2trash          winxptheme\n",
      "bz2                 llvmlite            service_identity    wrapt\n",
      "cProfile            locale              servicemanager      wsgiref\n",
      "calendar            locket              setuptools          xarray\n",
      "certifi             logging             shelve              xdrlib\n",
      "cffi                lxml                shlex               xlrd\n",
      "cgi                 lz4                 shutil              xlsxwriter\n",
      "cgitb               lzma                signal              xlwings\n",
      "chardet             mailbox             sip                 xml\n",
      "charset_normalizer  mailcap             sipconfig           xmlrpc\n",
      "chunk               markdown            sipdistutils        xxsubtype\n",
      "click               markupsafe          site                yaml\n",
      "cloudpickle         marshal             six                 yapf\n",
      "clyent              math                skimage             yapftests\n",
      "cmath               matplotlib          sklearn             zict\n",
      "cmd                 matplotlib_inline   sklearnex           zipapp\n",
      "code                mccabe              slugify             zipfile\n",
      "codecs              menuinst            smart_open          zipimport\n",
      "codeop              mimetypes           smtpd               zipp\n",
      "collections         mistune             smtplib             zlib\n",
      "colorama            mkl                 snappy              zmq\n",
      "colorcet            mkl_fft             sndhdr              zoneinfo\n",
      "colorsys            mkl_random          sniffio             zope\n",
      "commctrl            mmap                snowballstemmer     zstandard\n",
      "\n",
      "Enter any module name to get more help.  Or, type \"modules spam\" to search\n",
      "for modules whose name or summary contain the string \"spam\".\n",
      "\n"
     ]
    },
    {
     "name": "stdout",
     "output_type": "stream",
     "text": [
      "\n",
      "You are now leaving help and returning to the Python interpreter.\n",
      "If you want to ask for help on a particular object directly from the\n",
      "interpreter, you can type \"help(object)\".  Executing \"help('string')\"\n",
      "has the same effect as typing a particular string at the help> prompt.\n"
     ]
    }
   ],
   "source": [
    "help()\n",
    "\n",
    "# \"modules\", \"keywords\", \"symbols\", or \"topics\""
   ]
  },
  {
   "cell_type": "code",
   "execution_count": 18,
   "id": "b3a29bce",
   "metadata": {},
   "outputs": [
    {
     "name": "stdout",
     "output_type": "stream",
     "text": [
      "Max of F  4\n",
      "Min of F  0\n"
     ]
    }
   ],
   "source": [
    "f=list(range(0,5))\n",
    "print(\"Max of F \",max(f))\n",
    "print(\"Min of F \",min(f))"
   ]
  },
  {
   "cell_type": "code",
   "execution_count": 6,
   "id": "bc463123",
   "metadata": {},
   "outputs": [
    {
     "name": "stdout",
     "output_type": "stream",
     "text": [
      "[0, 1, 2, 3, 4]\n"
     ]
    }
   ],
   "source": [
    "print(f)"
   ]
  },
  {
   "cell_type": "markdown",
   "id": "46ae1a92",
   "metadata": {},
   "source": [
    "# Function in Python"
   ]
  },
  {
   "cell_type": "code",
   "execution_count": 15,
   "id": "0cb16005",
   "metadata": {},
   "outputs": [
    {
     "name": "stdout",
     "output_type": "stream",
     "text": [
      "I am Learning Data Science\n"
     ]
    }
   ],
   "source": [
    "def hello():\n",
    "    print(\"I am Learning Data Science\")\n",
    "hello()"
   ]
  },
  {
   "cell_type": "code",
   "execution_count": 19,
   "id": "813fa839",
   "metadata": {},
   "outputs": [
    {
     "name": "stdout",
     "output_type": "stream",
     "text": [
      "Inside function\n"
     ]
    }
   ],
   "source": [
    "def addfun():\n",
    "    print(\"Inside function\")\n",
    "    \n",
    "addfun()"
   ]
  },
  {
   "cell_type": "code",
   "execution_count": 22,
   "id": "03ec1036",
   "metadata": {},
   "outputs": [
    {
     "name": "stdout",
     "output_type": "stream",
     "text": [
      "Inside Multiply\n",
      "6\n"
     ]
    }
   ],
   "source": [
    "def multify(a,b):\n",
    "    print(\"Inside Multiply\")\n",
    "    c=a*b\n",
    "    print(c)\n",
    "    \n",
    "multify(2,3)"
   ]
  },
  {
   "cell_type": "code",
   "execution_count": 23,
   "id": "4efe007f",
   "metadata": {},
   "outputs": [
    {
     "name": "stdout",
     "output_type": "stream",
     "text": [
      "Length : 4\n",
      "Breadth : 2\n",
      "Area of Rectangle : 8\n"
     ]
    }
   ],
   "source": [
    "def areaofrect(l,b):\n",
    "    print(\"Length :\",l)\n",
    "    print(\"Breadth :\",b)\n",
    "    print(\"Area of Rectangle :\",l*b)\n",
    "\n",
    "areaofrect(4,2)"
   ]
  },
  {
   "cell_type": "code",
   "execution_count": 25,
   "id": "a381fad4",
   "metadata": {},
   "outputs": [
    {
     "name": "stdout",
     "output_type": "stream",
     "text": [
      "Area of Triangle 3.0  where Breadth is 2 and Height is 3\n"
     ]
    }
   ],
   "source": [
    "def areaoftr(b,h):\n",
    "    print(\"Area of Triangle\",0.5*b*h,\" where Breadth is {} and Height is {}\".format(b,h))\n",
    "    \n",
    "areaoftr(2,3)"
   ]
  },
  {
   "cell_type": "markdown",
   "id": "196cbc0d",
   "metadata": {},
   "source": [
    "## Variable:\n",
    "\n",
    "- Local Variable: Born in Function and Die in function\n",
    "- Global Variable: Can be called anywhere in jupiter Notebook"
   ]
  },
  {
   "cell_type": "markdown",
   "id": "2665265a",
   "metadata": {},
   "source": [
    "### Parametric Function\n",
    "\n",
    "- Those function we input data inside the function"
   ]
  },
  {
   "cell_type": "code",
   "execution_count": 27,
   "id": "c5e8e20b",
   "metadata": {},
   "outputs": [
    {
     "name": "stdout",
     "output_type": "stream",
     "text": [
      "Area of Circle is 12.56 where radius is 2\n"
     ]
    }
   ],
   "source": [
    "def areaccl(r):\n",
    "    print(\"Area of Circle is {} where radius is {}\".format(3.14*r**2,r))\n",
    "\n",
    "areaccl(2)"
   ]
  },
  {
   "cell_type": "code",
   "execution_count": 32,
   "id": "6174423e",
   "metadata": {},
   "outputs": [
    {
     "name": "stdout",
     "output_type": "stream",
     "text": [
      "Area of Circle is 12.56 where radius is 2\n"
     ]
    }
   ],
   "source": [
    "def areaccl(r):\n",
    "    print(\"Area of Circle is %0.2f where radius is %d\"%(3.14*r**2,r))\n",
    "\n",
    "f=areaccl(2)\n",
    "f"
   ]
  },
  {
   "cell_type": "markdown",
   "id": "15c55ad1",
   "metadata": {},
   "source": [
    "### Return Function"
   ]
  },
  {
   "cell_type": "code",
   "execution_count": 30,
   "id": "8abe7039",
   "metadata": {},
   "outputs": [],
   "source": [
    "def substractf():\n",
    "    a=100\n",
    "    b=80\n",
    "    c=a-b\n",
    "    \n",
    "    # return function will return it outside of function\n",
    "    return c"
   ]
  },
  {
   "cell_type": "code",
   "execution_count": 31,
   "id": "443c97cc",
   "metadata": {},
   "outputs": [
    {
     "data": {
      "text/plain": [
       "20"
      ]
     },
     "execution_count": 31,
     "metadata": {},
     "output_type": "execute_result"
    }
   ],
   "source": [
    "substractf()"
   ]
  },
  {
   "cell_type": "code",
   "execution_count": 36,
   "id": "5d266257",
   "metadata": {},
   "outputs": [
    {
     "data": {
      "text/plain": [
       "[0, 10, 20, 30, 40]"
      ]
     },
     "execution_count": 36,
     "metadata": {},
     "output_type": "execute_result"
    }
   ],
   "source": [
    "def test1():\n",
    "    list1=[]\n",
    "    for i in range(0,50,10):\n",
    "        list1.append(i)\n",
    "    return list1\n",
    "\n",
    "test1()"
   ]
  },
  {
   "cell_type": "code",
   "execution_count": 50,
   "id": "d9550ea3",
   "metadata": {},
   "outputs": [
    {
     "data": {
      "text/plain": [
       "[0, 1, 2, 3, 4]"
      ]
     },
     "execution_count": 50,
     "metadata": {},
     "output_type": "execute_result"
    }
   ],
   "source": [
    "def testfun(l):\n",
    "    list2=[]\n",
    "    for i in range(0,len(l)):\n",
    "        list2.append(i)\n",
    "    return list2\n",
    "\n",
    "testfun(\"hello\")"
   ]
  },
  {
   "cell_type": "markdown",
   "id": "65abc896",
   "metadata": {},
   "source": [
    "# Practice"
   ]
  },
  {
   "cell_type": "code",
   "execution_count": 2,
   "id": "5d5b7f34",
   "metadata": {},
   "outputs": [
    {
     "name": "stdout",
     "output_type": "stream",
     "text": [
      "Enter the value :123\n",
      "123\n"
     ]
    }
   ],
   "source": [
    "val=input(\"Enter the value :\")\n",
    "print(val)"
   ]
  },
  {
   "cell_type": "code",
   "execution_count": 3,
   "id": "6733833e",
   "metadata": {},
   "outputs": [
    {
     "name": "stdout",
     "output_type": "stream",
     "text": [
      "Enter the name :\n",
      "aa\n",
      "aa\n"
     ]
    }
   ],
   "source": [
    "name=input(\"Enter the name :\\n\")\n",
    "print(name)"
   ]
  },
  {
   "cell_type": "code",
   "execution_count": 4,
   "id": "96022058",
   "metadata": {},
   "outputs": [
    {
     "data": {
      "text/plain": [
       "str"
      ]
     },
     "execution_count": 4,
     "metadata": {},
     "output_type": "execute_result"
    }
   ],
   "source": [
    "type(name)"
   ]
  },
  {
   "cell_type": "code",
   "execution_count": 5,
   "id": "b663da7d",
   "metadata": {},
   "outputs": [
    {
     "name": "stdout",
     "output_type": "stream",
     "text": [
      "Input Number12\n",
      "Enter your NameAbhijit\n",
      "<class 'str'> <class 'str'>\n"
     ]
    }
   ],
   "source": [
    "val=input(\"Input Number\")\n",
    "name=input(\"Enter your Name\")\n",
    "print(type(val),type(name))"
   ]
  },
  {
   "cell_type": "code",
   "execution_count": 6,
   "id": "10e2b91f",
   "metadata": {},
   "outputs": [
    {
     "ename": "NameError",
     "evalue": "name 'raw_input' is not defined",
     "output_type": "error",
     "traceback": [
      "\u001b[1;31m---------------------------------------------------------------------------\u001b[0m",
      "\u001b[1;31mNameError\u001b[0m                                 Traceback (most recent call last)",
      "\u001b[1;32m~\\AppData\\Local\\Temp\\ipykernel_14796\\655996868.py\u001b[0m in \u001b[0;36m<module>\u001b[1;34m\u001b[0m\n\u001b[1;32m----> 1\u001b[1;33m \u001b[0mg\u001b[0m\u001b[1;33m=\u001b[0m\u001b[0mraw_input\u001b[0m\u001b[1;33m(\u001b[0m\u001b[1;34m\"Enter you name : \"\u001b[0m\u001b[1;33m)\u001b[0m\u001b[1;33m\u001b[0m\u001b[1;33m\u001b[0m\u001b[0m\n\u001b[0m\u001b[0;32m      2\u001b[0m \u001b[0mprint\u001b[0m\u001b[1;33m(\u001b[0m\u001b[0mg\u001b[0m\u001b[1;33m)\u001b[0m\u001b[1;33m\u001b[0m\u001b[1;33m\u001b[0m\u001b[0m\n",
      "\u001b[1;31mNameError\u001b[0m: name 'raw_input' is not defined"
     ]
    }
   ],
   "source": [
    "g=raw_input(\"Enter you name : \")\n",
    "print(g)"
   ]
  },
  {
   "cell_type": "code",
   "execution_count": null,
   "id": "095de94a",
   "metadata": {},
   "outputs": [],
   "source": [
    "f=int(input(\"Enter any number\"))\n",
    "g=float(input(\"Enter any number in continous value\"))\n",
    "h=int(input(\"Enter any Number\"))\n",
    "for i in ra"
   ]
  }
 ],
 "metadata": {
  "kernelspec": {
   "display_name": "Python 3 (ipykernel)",
   "language": "python",
   "name": "python3"
  },
  "language_info": {
   "codemirror_mode": {
    "name": "ipython",
    "version": 3
   },
   "file_extension": ".py",
   "mimetype": "text/x-python",
   "name": "python",
   "nbconvert_exporter": "python",
   "pygments_lexer": "ipython3",
   "version": "3.9.13"
  }
 },
 "nbformat": 4,
 "nbformat_minor": 5
}
